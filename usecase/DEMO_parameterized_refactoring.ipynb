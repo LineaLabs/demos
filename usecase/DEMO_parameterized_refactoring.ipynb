{
 "cells": [
  {
   "cell_type": "code",
   "execution_count": 1,
   "id": "9f387800-0664-4af2-bca5-b7ea8dbda05c",
   "metadata": {},
   "outputs": [],
   "source": [
    "%load_ext lineapy"
   ]
  },
  {
   "cell_type": "code",
   "execution_count": 2,
   "id": "1aea4c71-b084-487b-b296-946803f679b2",
   "metadata": {},
   "outputs": [],
   "source": [
    "import lineapy"
   ]
  },
  {
   "cell_type": "markdown",
   "id": "6f648c08-427c-44e8-a587-caa13d5ed3cf",
   "metadata": {},
   "source": [
    "# Parameter Refactoring \n",
    "\n",
    "This notebook demonstrates how to use LineaPy to perform parameter refactoring.\n",
    "\n",
    "It introduces two new LineaPy APIs related to parameter refactoring.\n",
    "\n",
    "## A function that takes user-defined input parameters and returns a list of artifacts calculated by the same process\n",
    "\n",
    "```\n",
    "lineapy.get_function(\n",
    "    artifact_list=[art_name1, art_name2, ...], \n",
    "    input_parameters=[var1, var2, ...]\n",
    ") -> Callable\n",
    "```\n",
    "\n",
    "This return a python function that takes user-selected input variables and returns user-selected artifacts.\n",
    "\n",
    "* Benefits\n",
    "    + Easy to adjust input/return variables.\n",
    "    + It is the same function used in `to_pipeline` and data scientists can validate the output pipeline in the notebook directly.\n",
    "    + Extend LineaPy user base to everyone who writes a for-loop.\n",
    "\n",
    "## Module definition \n",
    "\n",
    "```\n",
    "lineapy.get_module_definition(\n",
    "    artifact_list=[art_name1, art_name2, ...], \n",
    "    input_parameters=[var1, var2, ...]\n",
    ") -> str\n",
    "```\n",
    "\n",
    "This returns the entire module definition as a string. \n",
    "Note, this should be the same as the `module.py` generated from the current `to_pipeline`.\n",
    "\n",
    "* Benefits\n",
    "    + Easily examine the output result directly in the notebook.\n",
    "    + Export to the filesystem for other applications.\n",
    "    \n",
    "    \n",
    "\n",
    "\n",
    "\n"
   ]
  },
  {
   "cell_type": "markdown",
   "id": "94a5a81e-170e-4cc5-bc7b-903e604711e7",
   "metadata": {},
   "source": [
    "## Example in quantative finance (pair trade)\n",
    "\n",
    "What Is a Pairs Trade? \n",
    "\n",
    "A pairs trade is a trading strategy that involves matching a long position with a short position in two stocks with a __high correlation__.\n",
    "\n",
    "### Required data\n",
    "* You need daily(weekly/monthly/hourly ...) return of two stocks\n",
    "* Starting time frame\n",
    "* Correlation window size"
   ]
  },
  {
   "cell_type": "code",
   "execution_count": 3,
   "id": "e6e2023b-3bd8-4b0a-b0ca-c3f874d3d9f0",
   "metadata": {},
   "outputs": [
    {
     "name": "stdout",
     "output_type": "stream",
     "text": [
      "                 Open       High        Low      Close    Volume  Dividends  \\\n",
      "Date                                                                          \n",
      "2017-01-04  57.837964  58.087904  57.504710  57.671337  21340000        0.0   \n",
      "2017-01-05  57.569509  58.004591  57.421397  57.671337  24876000        0.0   \n",
      "2017-01-06  57.671330  58.458181  57.430649  58.171211  19922900        0.0   \n",
      "2017-01-09  58.097152  58.393381  57.893500  57.986069  20382700        0.0   \n",
      "2017-01-10  58.069380  58.384119  57.652813  57.967552  18593000        0.0   \n",
      "\n",
      "            Stock Splits   chg_pct  \n",
      "Date                                \n",
      "2017-01-04             0 -0.004474  \n",
      "2017-01-05             0  0.000000  \n",
      "2017-01-06             0  0.008668  \n",
      "2017-01-09             0 -0.003183  \n",
      "2017-01-10             0 -0.000319  \n",
      "                 Open       High        Low      Close     Volume  Dividends  \\\n",
      "Date                                                                           \n",
      "2017-01-04  27.187240  27.342127  27.163773  27.227135   84472400        0.0   \n",
      "2017-01-05  27.203668  27.424264  27.177853  27.365595   88774400        0.0   \n",
      "2017-01-06  27.405488  27.729342  27.332739  27.670673  127007600        0.0   \n",
      "2017-01-09  27.680060  28.027382  27.677715  27.924124  134247600        0.0   \n",
      "2017-01-10  27.872495  28.015648  27.762199  27.952286   97848400        0.0   \n",
      "\n",
      "            Stock Splits   chg_pct  \n",
      "Date                                \n",
      "2017-01-04           0.0 -0.001119  \n",
      "2017-01-05           0.0  0.005085  \n",
      "2017-01-06           0.0  0.011148  \n",
      "2017-01-09           0.0  0.009160  \n",
      "2017-01-10           0.0  0.001009  \n"
     ]
    },
    {
     "data": {
      "text/plain": [
       "LineaArtifact(name='correlation', _version=8)"
      ]
     },
     "execution_count": 3,
     "metadata": {},
     "output_type": "execute_result"
    }
   ],
   "source": [
    "import yfinance as yf\n",
    "import numpy as np\n",
    "import pandas as pd\n",
    "\n",
    "start=\"2017-01-01\"\n",
    "n_day = 20\n",
    "\n",
    "start_date=pd.Timestamp(start)\n",
    "\n",
    "ticker1 = 'MSFT'\n",
    "stock1 = yf.Ticker(ticker1)\n",
    "history1 = stock1.history(start=start_date).assign(chg_pct = lambda df: df.Close/df.Close.shift(1)-1).dropna()[:n_day]\n",
    "lineapy.save(history1, 'history1')\n",
    "\n",
    "print(history1.head())\n",
    "\n",
    "ticker2 = 'AAPL'\n",
    "stock2 = yf.Ticker(ticker2)\n",
    "history2 = stock2.history(start=start_date).assign(chg_pct = lambda df: df.Close/df.Close.shift(1)-1).dropna()[:n_day]\n",
    "lineapy.save(history2, 'history2')\n",
    "\n",
    "print(history2.head())\n",
    "\n",
    "pair_correlation = np.corrcoef(history1.chg_pct, history2.chg_pct)\n",
    "lineapy.save(pair_correlation, 'correlation')"
   ]
  },
  {
   "cell_type": "code",
   "execution_count": 4,
   "id": "7574e3d9-eeac-458f-859a-47ac0a6db7b4",
   "metadata": {},
   "outputs": [
    {
     "data": {
      "text/plain": [
       "array([[ 1.        , -0.36153237],\n",
       "       [-0.36153237,  1.        ]])"
      ]
     },
     "execution_count": 4,
     "metadata": {},
     "output_type": "execute_result"
    }
   ],
   "source": [
    "pair_correlation"
   ]
  },
  {
   "cell_type": "markdown",
   "id": "c7f0a7da-ce91-419a-9f44-a21d91b7b320",
   "metadata": {},
   "source": [
    "# Standard Pipeline\n",
    "\n",
    "**Q: If our goal is `correlation`, why we need both history1, history2? \n",
    "A: Compliance! You need not only the result, but also the input data to verify your result is reprodecible**"
   ]
  },
  {
   "cell_type": "code",
   "execution_count": 5,
   "id": "ad48150c-0912-4253-95c8-a5a6217c5b9a",
   "metadata": {},
   "outputs": [
    {
     "name": "stdout",
     "output_type": "stream",
     "text": [
      "import copy\n",
      "import numpy as np\n",
      "import pandas as pd\n",
      "import yfinance as yf\n",
      "\n",
      "def get_start_date_n_day_for_artifact_history1_and_downstream():\n",
      "  start = \"2017-01-01\"\n",
      "  n_day = 20\n",
      "  start_date = pd.Timestamp(start)\n",
      "  return start_date, n_day\n",
      "\n",
      "def get_history1(n_day, start_date):\n",
      "  ticker1 = \"MSFT\"\n",
      "  stock1 = yf.Ticker(ticker1)\n",
      "  history1 = (\n",
      "      stock1.history(start=start_date)\n",
      "      .assign(chg_pct=lambda df: df.Close / df.Close.shift(1) - 1)\n",
      "      .dropna()[:n_day]\n",
      "  )\n",
      "  return history1\n",
      "\n",
      "def get_history2(n_day, start_date):\n",
      "  ticker2 = \"AAPL\"\n",
      "  stock2 = yf.Ticker(ticker2)\n",
      "  history2 = (\n",
      "      stock2.history(start=start_date)\n",
      "      .assign(chg_pct=lambda df: df.Close / df.Close.shift(1) - 1)\n",
      "      .dropna()[:n_day]\n",
      "  )\n",
      "  return history2\n",
      "\n",
      "def get_correlation(history1, history2):\n",
      "  pair_correlation = np.corrcoef(history1.chg_pct, history2.chg_pct)\n",
      "  return pair_correlation\n",
      "\n",
      "def pipeline():\n",
      "  sessionartifacts = []\n",
      "  start_date, n_day = get_start_date_n_day_for_artifact_history1_and_downstream()\n",
      "  history1 = get_history1(n_day, start_date)\n",
      "  lineapy.save(history1, \"history1\")\n",
      "  sessionartifacts.append(copy.deepcopy(history1))\n",
      "  history2 = get_history2(n_day, start_date)\n",
      "  lineapy.save(history2, \"history2\")\n",
      "  sessionartifacts.append(copy.deepcopy(history2))\n",
      "  pair_correlation = get_correlation(history1, history2)\n",
      "  lineapy.save(pair_correlation, \"correlation\")\n",
      "  sessionartifacts.append(copy.deepcopy(pair_correlation))\n",
      "  return sessionartifacts\n",
      "\n",
      "if __name__==\"__main__\":\n",
      "  pipeline()\n",
      "\n"
     ]
    }
   ],
   "source": [
    "print(lineapy.get_module_definition(['history1','history2','correlation'],indentation=2, keep_lineapy_save=True))\n"
   ]
  },
  {
   "cell_type": "markdown",
   "id": "554894df-3e94-44ad-ba15-e645e8aa7199",
   "metadata": {},
   "source": [
    "# Parameterized Pipeline\n",
    "\n",
    "If you are a analyst covers MSFT, want to identify pair trade candidate."
   ]
  },
  {
   "cell_type": "code",
   "execution_count": 6,
   "id": "94961682-a569-4552-979a-bb08a6e8cea3",
   "metadata": {},
   "outputs": [
    {
     "name": "stdout",
     "output_type": "stream",
     "text": [
      "import copy\n",
      "import numpy as np\n",
      "import pandas as pd\n",
      "import yfinance as yf\n",
      "\n",
      "def get_start_date_n_day_for_artifact_history1_and_downstream():\n",
      "  start = \"2017-01-01\"\n",
      "  n_day = 20\n",
      "  start_date = pd.Timestamp(start)\n",
      "  return start_date, n_day\n",
      "\n",
      "def get_history1(n_day, start_date):\n",
      "  ticker1 = \"MSFT\"\n",
      "  stock1 = yf.Ticker(ticker1)\n",
      "  history1 = (\n",
      "      stock1.history(start=start_date)\n",
      "      .assign(chg_pct=lambda df: df.Close / df.Close.shift(1) - 1)\n",
      "      .dropna()[:n_day]\n",
      "  )\n",
      "  return history1\n",
      "\n",
      "def get_history2(n_day, start_date, ticker2):\n",
      "  stock2 = yf.Ticker(ticker2)\n",
      "  history2 = (\n",
      "      stock2.history(start=start_date)\n",
      "      .assign(chg_pct=lambda df: df.Close / df.Close.shift(1) - 1)\n",
      "      .dropna()[:n_day]\n",
      "  )\n",
      "  return history2\n",
      "\n",
      "def get_correlation(history1, history2):\n",
      "  pair_correlation = np.corrcoef(history1.chg_pct, history2.chg_pct)\n",
      "  return pair_correlation\n",
      "\n",
      "def pipeline(ticker2 = \"AAPL\"):\n",
      "  sessionartifacts = []\n",
      "  start_date, n_day = get_start_date_n_day_for_artifact_history1_and_downstream()\n",
      "  history1 = get_history1(n_day, start_date)\n",
      "  sessionartifacts.append(copy.deepcopy(history1))\n",
      "  history2 = get_history2(n_day, start_date, ticker2)\n",
      "  sessionartifacts.append(copy.deepcopy(history2))\n",
      "  pair_correlation = get_correlation(history1, history2)\n",
      "  sessionartifacts.append(copy.deepcopy(pair_correlation))\n",
      "  return sessionartifacts\n",
      "\n",
      "if __name__==\"__main__\":\n",
      "  pipeline()\n",
      "\n"
     ]
    }
   ],
   "source": [
    "print(lineapy.get_module_definition(['history1','history2','correlation'],input_parameters=['ticker2'],indentation=2))"
   ]
  },
  {
   "cell_type": "markdown",
   "id": "4d785306-fa20-4801-a22c-0f132aec9667",
   "metadata": {},
   "source": [
    "# How about we just return the session as a module? Then we can use the parameterized pipeline as an function.\n",
    "\n",
    "* Pure code refactoring/parametrization, no need to copy paste code and reuse the result.\n",
    "* Directly using the parameterized functions; easy to do experinment and validate \n"
   ]
  },
  {
   "cell_type": "code",
   "execution_count": 7,
   "id": "95a74a6f-8354-43b8-b9f9-6feafb9b346e",
   "metadata": {},
   "outputs": [
    {
     "name": "stdout",
     "output_type": "stream",
     "text": [
      "AMZN\n",
      "[[ 1.         -0.01847983]\n",
      " [-0.01847983  1.        ]]\n",
      "SPY\n",
      "[[1.         0.28165898]\n",
      " [0.28165898 1.        ]]\n",
      "QQQ\n",
      "[[1.         0.26407754]\n",
      " [0.26407754 1.        ]]\n"
     ]
    }
   ],
   "source": [
    "ft = lineapy.get_function(['history1','history2','correlation'],input_parameters=['ticker2'])\n",
    "\n",
    "for ticker2 in ['AMZN','SPY','QQQ']:\n",
    "    print(ticker2)\n",
    "    print(ft(ticker2=ticker2)[2])\n"
   ]
  },
  {
   "cell_type": "markdown",
   "id": "77cc467b-523e-4bc0-a40a-42135773c2d0",
   "metadata": {},
   "source": [
    "# Another way for parameterization. \n",
    "\n",
    "You don't care about MSFT, you just want to find out high correlation pair for pair trade."
   ]
  },
  {
   "cell_type": "code",
   "execution_count": 8,
   "id": "309eea29-01a4-481f-a464-cc6b980025a2",
   "metadata": {},
   "outputs": [
    {
     "name": "stdout",
     "output_type": "stream",
     "text": [
      "import copy\n",
      "import numpy as np\n",
      "import pandas as pd\n",
      "import yfinance as yf\n",
      "\n",
      "def get_start_date_n_day_for_artifact_history1_and_downstream():\n",
      "  start = \"2017-01-01\"\n",
      "  n_day = 20\n",
      "  start_date = pd.Timestamp(start)\n",
      "  return start_date, n_day\n",
      "\n",
      "def get_history1(n_day, start_date, ticker1):\n",
      "  stock1 = yf.Ticker(ticker1)\n",
      "  history1 = (\n",
      "      stock1.history(start=start_date)\n",
      "      .assign(chg_pct=lambda df: df.Close / df.Close.shift(1) - 1)\n",
      "      .dropna()[:n_day]\n",
      "  )\n",
      "  return history1\n",
      "\n",
      "def get_history2(n_day, start_date, ticker2):\n",
      "  stock2 = yf.Ticker(ticker2)\n",
      "  history2 = (\n",
      "      stock2.history(start=start_date)\n",
      "      .assign(chg_pct=lambda df: df.Close / df.Close.shift(1) - 1)\n",
      "      .dropna()[:n_day]\n",
      "  )\n",
      "  return history2\n",
      "\n",
      "def get_correlation(history1, history2):\n",
      "  pair_correlation = np.corrcoef(history1.chg_pct, history2.chg_pct)\n",
      "  return pair_correlation\n",
      "\n",
      "def pipeline(\n",
      "    ticker1 = \"MSFT\",\n",
      "    ticker2 = \"AAPL\",\n",
      "):\n",
      "  sessionartifacts = []\n",
      "  start_date, n_day = get_start_date_n_day_for_artifact_history1_and_downstream()\n",
      "  history1 = get_history1(n_day, start_date, ticker1)\n",
      "  sessionartifacts.append(copy.deepcopy(history1))\n",
      "  history2 = get_history2(n_day, start_date, ticker2)\n",
      "  sessionartifacts.append(copy.deepcopy(history2))\n",
      "  pair_correlation = get_correlation(history1, history2)\n",
      "  sessionartifacts.append(copy.deepcopy(pair_correlation))\n",
      "  return sessionartifacts\n",
      "\n",
      "if __name__==\"__main__\":\n",
      "  pipeline()\n",
      "\n"
     ]
    }
   ],
   "source": [
    "print(lineapy.get_module_definition(['history1','history2','correlation'],input_parameters=['ticker1','ticker2'],indentation=2))"
   ]
  },
  {
   "cell_type": "code",
   "execution_count": 9,
   "id": "56a66495-29fa-4b16-98c4-9b6dacdfbf48",
   "metadata": {},
   "outputs": [
    {
     "name": "stdout",
     "output_type": "stream",
     "text": [
      "[[ 1.         -0.01848058]\n",
      " [-0.01848058  1.        ]]\n",
      "[[1.         0.77937329]\n",
      " [0.77937329 1.        ]]\n",
      "[[1.         0.14237649]\n",
      " [0.14237649 1.        ]]\n"
     ]
    }
   ],
   "source": [
    "ft = lineapy.get_function(['history1','history2','correlation'],input_parameters=['ticker1','ticker2'])\n",
    "\n",
    "for t1,t2 in [('MSFT','AMZN'),('SPY','QQQ'),('TWTR','TSLA')]:\n",
    "    print(ft(ticker1=t1, ticker2=t2)[2])"
   ]
  },
  {
   "cell_type": "markdown",
   "id": "1ace3766-76ab-4db3-9cce-4adec054853e",
   "metadata": {},
   "source": [
    "# If you want some backtesting, you need to change the `start`"
   ]
  },
  {
   "cell_type": "code",
   "execution_count": 10,
   "id": "d858a5ca-e855-474e-99ca-667bb377406a",
   "metadata": {},
   "outputs": [
    {
     "name": "stdout",
     "output_type": "stream",
     "text": [
      "import copy\n",
      "import numpy as np\n",
      "import pandas as pd\n",
      "import yfinance as yf\n",
      "\n",
      "def get_start_date_n_day_for_artifact_history1_and_downstream(start):\n",
      "  n_day = 20\n",
      "  start_date = pd.Timestamp(start)\n",
      "  return start_date, n_day\n",
      "\n",
      "def get_history1(n_day, start_date, ticker1):\n",
      "  stock1 = yf.Ticker(ticker1)\n",
      "  history1 = (\n",
      "      stock1.history(start=start_date)\n",
      "      .assign(chg_pct=lambda df: df.Close / df.Close.shift(1) - 1)\n",
      "      .dropna()[:n_day]\n",
      "  )\n",
      "  return history1\n",
      "\n",
      "def get_history2(n_day, start_date, ticker2):\n",
      "  stock2 = yf.Ticker(ticker2)\n",
      "  history2 = (\n",
      "      stock2.history(start=start_date)\n",
      "      .assign(chg_pct=lambda df: df.Close / df.Close.shift(1) - 1)\n",
      "      .dropna()[:n_day]\n",
      "  )\n",
      "  return history2\n",
      "\n",
      "def get_correlation(history1, history2):\n",
      "  pair_correlation = np.corrcoef(history1.chg_pct, history2.chg_pct)\n",
      "  return pair_correlation\n",
      "\n",
      "def pipeline(\n",
      "    start = \"2017-01-01\",\n",
      "    ticker1 = \"MSFT\",\n",
      "    ticker2 = \"AAPL\",\n",
      "):\n",
      "  sessionartifacts = []\n",
      "  start_date, n_day = get_start_date_n_day_for_artifact_history1_and_downstream(start)\n",
      "  history1 = get_history1(n_day, start_date, ticker1)\n",
      "  sessionartifacts.append(copy.deepcopy(history1))\n",
      "  history2 = get_history2(n_day, start_date, ticker2)\n",
      "  sessionartifacts.append(copy.deepcopy(history2))\n",
      "  pair_correlation = get_correlation(history1, history2)\n",
      "  sessionartifacts.append(copy.deepcopy(pair_correlation))\n",
      "  return sessionartifacts\n",
      "\n",
      "if __name__==\"__main__\":\n",
      "  pipeline()\n",
      "\n"
     ]
    }
   ],
   "source": [
    "print(lineapy.get_module_definition(['history1','history2','correlation'],input_parameters=['ticker1','ticker2','start'],indentation=2))\n"
   ]
  },
  {
   "cell_type": "code",
   "execution_count": 11,
   "id": "bd103d1f-2069-46af-b16c-c548338f665c",
   "metadata": {},
   "outputs": [
    {
     "name": "stdout",
     "output_type": "stream",
     "text": [
      "[[1.         0.27812645]\n",
      " [0.27812645 1.        ]]\n",
      "[[1.         0.94338018]\n",
      " [0.94338018 1.        ]]\n",
      "[[1.         0.68685324]\n",
      " [0.68685324 1.        ]]\n"
     ]
    }
   ],
   "source": [
    "ft = lineapy.get_function(['history1','history2','correlation'],input_parameters=['ticker1','ticker2','start'])\n",
    "\n",
    "for t1,t2, start in [('MSFT','AMZN','2018-01-01'),('SPY','QQQ','2008-09-30'),('TWTR','TSLA','2022-06-01')]:\n",
    "    print(ft(ticker1=t1, ticker2=t2, start=start)[2])"
   ]
  },
  {
   "cell_type": "markdown",
   "id": "ed3543e7-1f9e-4305-bbfe-ab7ee6dd58f1",
   "metadata": {},
   "source": [
    "# If you want to tune your parameters for trading strategy(n_day correlation)"
   ]
  },
  {
   "cell_type": "code",
   "execution_count": 12,
   "id": "b7971054-a569-4858-a5f8-f25760363318",
   "metadata": {},
   "outputs": [
    {
     "name": "stdout",
     "output_type": "stream",
     "text": [
      "import copy\n",
      "import numpy as np\n",
      "import pandas as pd\n",
      "import yfinance as yf\n",
      "\n",
      "def get_start_date_n_day_for_artifact_history1_and_downstream(n_day, start):\n",
      "    start_date = pd.Timestamp(start)\n",
      "    return start_date, n_day\n",
      "\n",
      "def get_history1(n_day, start_date, ticker1):\n",
      "    stock1 = yf.Ticker(ticker1)\n",
      "    history1 = (\n",
      "        stock1.history(start=start_date)\n",
      "        .assign(chg_pct=lambda df: df.Close / df.Close.shift(1) - 1)\n",
      "        .dropna()[:n_day]\n",
      "    )\n",
      "    return history1\n",
      "\n",
      "def get_history2(n_day, start_date, ticker2):\n",
      "    stock2 = yf.Ticker(ticker2)\n",
      "    history2 = (\n",
      "        stock2.history(start=start_date)\n",
      "        .assign(chg_pct=lambda df: df.Close / df.Close.shift(1) - 1)\n",
      "        .dropna()[:n_day]\n",
      "    )\n",
      "    return history2\n",
      "\n",
      "def get_correlation(history1, history2):\n",
      "    pair_correlation = np.corrcoef(history1.chg_pct, history2.chg_pct)\n",
      "    return pair_correlation\n",
      "\n",
      "def pipeline(\n",
      "    start = \"2017-01-01\",\n",
      "    n_day = 20,\n",
      "    ticker1 = \"MSFT\",\n",
      "    ticker2 = \"AAPL\",\n",
      "):\n",
      "    sessionartifacts = []\n",
      "    start_date, n_day = get_start_date_n_day_for_artifact_history1_and_downstream(n_day, start)\n",
      "    history1 = get_history1(n_day, start_date, ticker1)\n",
      "    sessionartifacts.append(copy.deepcopy(history1))\n",
      "    history2 = get_history2(n_day, start_date, ticker2)\n",
      "    sessionartifacts.append(copy.deepcopy(history2))\n",
      "    pair_correlation = get_correlation(history1, history2)\n",
      "    sessionartifacts.append(copy.deepcopy(pair_correlation))\n",
      "    return sessionartifacts\n",
      "\n",
      "if __name__==\"__main__\":\n",
      "    pipeline()\n",
      "\n"
     ]
    }
   ],
   "source": [
    "print(lineapy.get_module_definition(['history1','history2','correlation'], input_parameters=['ticker1','ticker2','start','n_day']))"
   ]
  },
  {
   "cell_type": "code",
   "execution_count": 13,
   "id": "705f02c8-ede3-488e-b3bd-55b1c519c9ef",
   "metadata": {},
   "outputs": [
    {
     "name": "stdout",
     "output_type": "stream",
     "text": [
      "[[1.         0.94871212]\n",
      " [0.94871212 1.        ]]\n",
      "[[1.         0.92359317]\n",
      " [0.92359317 1.        ]]\n",
      "[[1.         0.16596815]\n",
      " [0.16596815 1.        ]]\n"
     ]
    }
   ],
   "source": [
    "ft = lineapy.get_function(['history1','history2','correlation'], input_parameters=['ticker1','ticker2','start','n_day'])\n",
    "\n",
    "print(ft(ticker1='QQQ',ticker2='SPY',start='2008-10-01',n_day=30)[2])\n",
    "print(ft(ticker1='QQQ',ticker2='SPY',start='2009-10-01',n_day=30)[2])\n",
    "print(ft(ticker2='SPY',start='2009-10-01',n_day=30)[2])\n"
   ]
  },
  {
   "cell_type": "markdown",
   "id": "f217ab67-7dab-4c25-be82-fce5f2952d07",
   "metadata": {},
   "source": [
    "# If we don't care about the compliance to keep the original data, we only need one of the artifact"
   ]
  },
  {
   "cell_type": "code",
   "execution_count": 14,
   "id": "b52886a2-1f44-41c2-91c0-06aea17e8e08",
   "metadata": {},
   "outputs": [
    {
     "name": "stdout",
     "output_type": "stream",
     "text": [
      "import numpy as np\n",
      "import pandas as pd\n",
      "import yfinance as yf\n",
      "\n",
      "def get_correlation(n_day, start, ticker1, ticker2):\n",
      "    start_date = pd.Timestamp(start)\n",
      "    stock1 = yf.Ticker(ticker1)\n",
      "    history1 = (\n",
      "        stock1.history(start=start_date)\n",
      "        .assign(chg_pct=lambda df: df.Close / df.Close.shift(1) - 1)\n",
      "        .dropna()[:n_day]\n",
      "    )\n",
      "    stock2 = yf.Ticker(ticker2)\n",
      "    history2 = (\n",
      "        stock2.history(start=start_date)\n",
      "        .assign(chg_pct=lambda df: df.Close / df.Close.shift(1) - 1)\n",
      "        .dropna()[:n_day]\n",
      "    )\n",
      "    pair_correlation = np.corrcoef(history1.chg_pct, history2.chg_pct)\n",
      "    return pair_correlation\n",
      "\n",
      "def pipeline(\n",
      "    start = \"2017-01-01\",\n",
      "    n_day = 20,\n",
      "    ticker1 = \"MSFT\",\n",
      "    ticker2 = \"AAPL\",\n",
      "):\n",
      "    pair_correlation = get_correlation(n_day, start, ticker1, ticker2)\n",
      "    return pair_correlation\n",
      "\n",
      "if __name__==\"__main__\":\n",
      "    pipeline()\n",
      "\n"
     ]
    }
   ],
   "source": [
    "print(lineapy.get_module_definition(['correlation'], input_parameters=['ticker1','ticker2','start','n_day']))"
   ]
  },
  {
   "cell_type": "code",
   "execution_count": 15,
   "id": "a3cc5889-9139-4cf2-acc3-4030b6bc6d17",
   "metadata": {},
   "outputs": [
    {
     "name": "stdout",
     "output_type": "stream",
     "text": [
      "[[1.         0.16596826]\n",
      " [0.16596826 1.        ]]\n"
     ]
    }
   ],
   "source": [
    "ft = lineapy.get_function(['correlation'], input_parameters=['ticker1','ticker2','start','n_day'])\n",
    "\n",
    "\n",
    "#Still can use default value\n",
    "print(\n",
    "    ft(\n",
    "        ticker2='SPY',start='2009-10-01',n_day=30\n",
    "    )\n",
    ")"
   ]
  }
 ],
 "metadata": {
  "kernelspec": {
   "display_name": "Python 3 (ipykernel)",
   "language": "python",
   "name": "python3"
  },
  "language_info": {
   "codemirror_mode": {
    "name": "ipython",
    "version": 3
   },
   "file_extension": ".py",
   "mimetype": "text/x-python",
   "name": "python",
   "nbconvert_exporter": "python",
   "pygments_lexer": "ipython3",
   "version": "3.9.12"
  }
 },
 "nbformat": 4,
 "nbformat_minor": 5
}
