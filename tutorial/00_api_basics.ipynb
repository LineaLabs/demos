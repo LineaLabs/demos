{
  "cells": [
    {
      "cell_type": "markdown",
      "id": "cc772856",
      "metadata": {
        "id": "cc772856"
      },
      "source": [
        "<p align=\"center\">\n",
        "    <a href=\"https://bit.ly/3N9WvDB\"><img src=\"https://colab.research.google.com/assets/colab-badge.svg\" alt=\"Open in Colab\"/></a>\n",
        "    <a href=\"https://bit.ly/3MyW8RW\"><img src=\"https://mybinder.org/badge_logo.svg\" alt=\"Open in Binder\"/></a>\n",
        "</p>"
      ]
    },
    {
      "cell_type": "code",
      "execution_count": 1,
      "id": "c1165f51",
      "metadata": {
        "id": "c1165f51"
      },
      "outputs": [],
      "source": [
        "%%capture\n",
        "\n",
        "# This cell only runs if you are running the notebook from Google Colab.\n",
        "# Colab uses an old version of IPython (`5.5.0` from 2017) that is not \n",
        "# compatible with LineaPy. Hence, we need to upgrade it first. \n",
        "# You can ignore the message \"Your session crashed for an unknown reason\" \n",
        "# at the bottom of the screen. We triggered the runtime restart with `exit()`.\n",
        "\n",
        "import IPython\n",
        "import os\n",
        "if (IPython.version_info[0] < 7) and any([k for k in dict(os.environ).keys() if k.startswith('COLAB_')]):\n",
        "  !pip -q install ipython --upgrade\n",
        "  # To load the updated ipython that we have just installed, \n",
        "  # we need to restart the runtime. The exit() command allows \n",
        "  # us to stop the current runtime, and executing the cell after \n",
        "  # it would restart the runtime.\n",
        "  exit()\n",
        "  # this is to allow for colab runtime to restart before trying to \n",
        "  # execute the next cell."
      ]
    },
    {
      "cell_type": "markdown",
      "id": "48ed5b5f",
      "metadata": {
        "id": "48ed5b5f"
      },
      "source": [
        "We now install and load LineaPy, along with other packages."
      ]
    },
    {
      "cell_type": "code",
      "execution_count": 1,
      "id": "c0e0c909",
      "metadata": {
        "id": "c0e0c909"
      },
      "outputs": [],
      "source": [
        "%%capture\n",
        "!pip -q install lineapy==0.1.4 scikit-learn pandas matplotlib"
      ]
    },
    {
      "cell_type": "code",
      "execution_count": 2,
      "id": "7205b9a1",
      "metadata": {
        "id": "7205b9a1"
      },
      "outputs": [],
      "source": [
        "%load_ext lineapy"
      ]
    },
    {
      "cell_type": "markdown",
      "id": "df259c51-860e-4a7d-9f3c-95ebf6fbb962",
      "metadata": {
        "id": "df259c51-860e-4a7d-9f3c-95ebf6fbb962"
      },
      "source": [
        "# API Basics"
      ]
    },
    {
      "cell_type": "markdown",
      "id": "742aaeee-79cd-4969-a3db-e78089df8338",
      "metadata": {
        "id": "742aaeee-79cd-4969-a3db-e78089df8338"
      },
      "source": [
        "In this tutorial, we will cover basic functionalities supported by `lineapy` using simple examples."
      ]
    },
    {
      "cell_type": "markdown",
      "id": "8f8a68e9",
      "metadata": {
        "id": "8f8a68e9"
      },
      "source": [
        "**Table of Contents**\n",
        "\n",
        "- [Storing an artifact with save()](#Storing-an-artifact-with-save())\n",
        "- [Listing artifacts with artifact_store()](#Listing-artifacts-with-artifact_store())\n",
        "- [Retrieving an artifact with get()](#Retrieving-an-artifact-with-get())\n",
        "- [Deleting an artifact with delete()](#Deleting-an-artifact-with-delete())\n",
        "- [Using artifacts to build pipelines](#Using-artifacts-to-build-pipelines)"
      ]
    },
    {
      "cell_type": "markdown",
      "id": "28213547",
      "metadata": {
        "id": "28213547"
      },
      "source": [
        "**What is an artifact?**\n",
        "\n",
        "An artifact is anything that the data scientist is developing. It could be a model, a chart, a dataset, a feature. Any Python variable or serialization operation can be an artifact. In LineaPy, a LineaArtifact is both the value and the minimal code for computing the value. We will see in the rest of the notebook how we can automatically extract the minimal code for artifacts and create pipelines out of them with just two lines of code!\n",
        "\n",
        "\n",
        "Below is a quick architecture diagram that indicates how the different APIs interact with the components in LineaPy. \n",
        "\n",
        "\n",
        "*   The import statement at the top automatically starts the tracking mechanism and initializes the database for storing metadata and artifact values if it hasn't been initialized previously\n",
        "*   The `lineapy.save()` API creates LineaArtifacts and persists them to the database.\n",
        "*   The `lineapy.get()` API enables retrieval of previously saved LineaArtifacts via `lineapy.save()`.\n",
        "*   `lineapy.to_pipeline()` creates a pipeline containing >=1 LineaArtifact. The files associated with the pipeline include not only the code for computing the artifact but also the Python dependencies for the code and a Dockerfile to set up a container to run the pipeline with the right dependencies installed."
      ]
    },
    {
      "cell_type": "markdown",
      "id": "12c5277f",
      "metadata": {
        "id": "12c5277f"
      },
      "source": [
        "![LineaPy_artifact](https://github.com/LineaLabs/demos/blob/main/tutorial/lineapy_artifact.png?raw=1)"
      ]
    },
    {
      "cell_type": "code",
      "execution_count": 3,
      "id": "3b37f98f-ca07-461f-9f76-eaabc4ed85b5",
      "metadata": {
        "id": "3b37f98f-ca07-461f-9f76-eaabc4ed85b5"
      },
      "outputs": [],
      "source": [
        "import os\n",
        "import lineapy\n",
        "import pandas as pd\n",
        "import matplotlib.pyplot as plt\n",
        "\n",
        "lineapy.options.set(\"is_demo\", True) # For demo only"
      ]
    },
    {
      "cell_type": "markdown",
      "id": "cQTeIJjVLE9M",
      "metadata": {
        "id": "cQTeIJjVLE9M"
      },
      "source": [
        "## Exploring data"
      ]
    },
    {
      "cell_type": "markdown",
      "id": "7e1eb514-ad0a-48fa-89d1-3adff56b6c64",
      "metadata": {
        "id": "7e1eb514-ad0a-48fa-89d1-3adff56b6c64"
      },
      "source": [
        "Let's load the toy data to use."
      ]
    },
    {
      "cell_type": "code",
      "execution_count": 4,
      "id": "410e0e61-9135-4067-8fb0-3538757ac9b7",
      "metadata": {
        "id": "410e0e61-9135-4067-8fb0-3538757ac9b7"
      },
      "outputs": [],
      "source": [
        "# Load data\n",
        "df = pd.read_csv(\"https://raw.githubusercontent.com/LineaLabs/lineapy/main/examples/tutorials/data/iris.csv\")"
      ]
    },
    {
      "cell_type": "code",
      "execution_count": 5,
      "id": "7cc4e268-e4d4-48e3-8ae2-7f25723be3e2",
      "metadata": {
        "colab": {
          "base_uri": "https://localhost:8080/",
          "height": 423
        },
        "id": "7cc4e268-e4d4-48e3-8ae2-7f25723be3e2",
        "outputId": "d1e15dfd-ae37-4f28-8c23-34dd3d7595a0"
      },
      "outputs": [
        {
          "output_type": "execute_result",
          "data": {
            "text/plain": [
              "     sepal.length  sepal.width  petal.length  petal.width    variety\n",
              "0             5.1          3.5           1.4          0.2     Setosa\n",
              "1             4.9          3.0           1.4          0.2     Setosa\n",
              "2             4.7          3.2           1.3          0.2     Setosa\n",
              "3             4.6          3.1           1.5          0.2     Setosa\n",
              "4             5.0          3.6           1.4          0.2     Setosa\n",
              "..            ...          ...           ...          ...        ...\n",
              "145           6.7          3.0           5.2          2.3  Virginica\n",
              "146           6.3          2.5           5.0          1.9  Virginica\n",
              "147           6.5          3.0           5.2          2.0  Virginica\n",
              "148           6.2          3.4           5.4          2.3  Virginica\n",
              "149           5.9          3.0           5.1          1.8  Virginica\n",
              "\n",
              "[150 rows x 5 columns]"
            ],
            "text/html": [
              "\n",
              "  <div id=\"df-5bea2d22-7e1b-4106-9b14-ed4df130f267\">\n",
              "    <div class=\"colab-df-container\">\n",
              "      <div>\n",
              "<style scoped>\n",
              "    .dataframe tbody tr th:only-of-type {\n",
              "        vertical-align: middle;\n",
              "    }\n",
              "\n",
              "    .dataframe tbody tr th {\n",
              "        vertical-align: top;\n",
              "    }\n",
              "\n",
              "    .dataframe thead th {\n",
              "        text-align: right;\n",
              "    }\n",
              "</style>\n",
              "<table border=\"1\" class=\"dataframe\">\n",
              "  <thead>\n",
              "    <tr style=\"text-align: right;\">\n",
              "      <th></th>\n",
              "      <th>sepal.length</th>\n",
              "      <th>sepal.width</th>\n",
              "      <th>petal.length</th>\n",
              "      <th>petal.width</th>\n",
              "      <th>variety</th>\n",
              "    </tr>\n",
              "  </thead>\n",
              "  <tbody>\n",
              "    <tr>\n",
              "      <th>0</th>\n",
              "      <td>5.1</td>\n",
              "      <td>3.5</td>\n",
              "      <td>1.4</td>\n",
              "      <td>0.2</td>\n",
              "      <td>Setosa</td>\n",
              "    </tr>\n",
              "    <tr>\n",
              "      <th>1</th>\n",
              "      <td>4.9</td>\n",
              "      <td>3.0</td>\n",
              "      <td>1.4</td>\n",
              "      <td>0.2</td>\n",
              "      <td>Setosa</td>\n",
              "    </tr>\n",
              "    <tr>\n",
              "      <th>2</th>\n",
              "      <td>4.7</td>\n",
              "      <td>3.2</td>\n",
              "      <td>1.3</td>\n",
              "      <td>0.2</td>\n",
              "      <td>Setosa</td>\n",
              "    </tr>\n",
              "    <tr>\n",
              "      <th>3</th>\n",
              "      <td>4.6</td>\n",
              "      <td>3.1</td>\n",
              "      <td>1.5</td>\n",
              "      <td>0.2</td>\n",
              "      <td>Setosa</td>\n",
              "    </tr>\n",
              "    <tr>\n",
              "      <th>4</th>\n",
              "      <td>5.0</td>\n",
              "      <td>3.6</td>\n",
              "      <td>1.4</td>\n",
              "      <td>0.2</td>\n",
              "      <td>Setosa</td>\n",
              "    </tr>\n",
              "    <tr>\n",
              "      <th>...</th>\n",
              "      <td>...</td>\n",
              "      <td>...</td>\n",
              "      <td>...</td>\n",
              "      <td>...</td>\n",
              "      <td>...</td>\n",
              "    </tr>\n",
              "    <tr>\n",
              "      <th>145</th>\n",
              "      <td>6.7</td>\n",
              "      <td>3.0</td>\n",
              "      <td>5.2</td>\n",
              "      <td>2.3</td>\n",
              "      <td>Virginica</td>\n",
              "    </tr>\n",
              "    <tr>\n",
              "      <th>146</th>\n",
              "      <td>6.3</td>\n",
              "      <td>2.5</td>\n",
              "      <td>5.0</td>\n",
              "      <td>1.9</td>\n",
              "      <td>Virginica</td>\n",
              "    </tr>\n",
              "    <tr>\n",
              "      <th>147</th>\n",
              "      <td>6.5</td>\n",
              "      <td>3.0</td>\n",
              "      <td>5.2</td>\n",
              "      <td>2.0</td>\n",
              "      <td>Virginica</td>\n",
              "    </tr>\n",
              "    <tr>\n",
              "      <th>148</th>\n",
              "      <td>6.2</td>\n",
              "      <td>3.4</td>\n",
              "      <td>5.4</td>\n",
              "      <td>2.3</td>\n",
              "      <td>Virginica</td>\n",
              "    </tr>\n",
              "    <tr>\n",
              "      <th>149</th>\n",
              "      <td>5.9</td>\n",
              "      <td>3.0</td>\n",
              "      <td>5.1</td>\n",
              "      <td>1.8</td>\n",
              "      <td>Virginica</td>\n",
              "    </tr>\n",
              "  </tbody>\n",
              "</table>\n",
              "<p>150 rows × 5 columns</p>\n",
              "</div>\n",
              "      <button class=\"colab-df-convert\" onclick=\"convertToInteractive('df-5bea2d22-7e1b-4106-9b14-ed4df130f267')\"\n",
              "              title=\"Convert this dataframe to an interactive table.\"\n",
              "              style=\"display:none;\">\n",
              "        \n",
              "  <svg xmlns=\"http://www.w3.org/2000/svg\" height=\"24px\"viewBox=\"0 0 24 24\"\n",
              "       width=\"24px\">\n",
              "    <path d=\"M0 0h24v24H0V0z\" fill=\"none\"/>\n",
              "    <path d=\"M18.56 5.44l.94 2.06.94-2.06 2.06-.94-2.06-.94-.94-2.06-.94 2.06-2.06.94zm-11 1L8.5 8.5l.94-2.06 2.06-.94-2.06-.94L8.5 2.5l-.94 2.06-2.06.94zm10 10l.94 2.06.94-2.06 2.06-.94-2.06-.94-.94-2.06-.94 2.06-2.06.94z\"/><path d=\"M17.41 7.96l-1.37-1.37c-.4-.4-.92-.59-1.43-.59-.52 0-1.04.2-1.43.59L10.3 9.45l-7.72 7.72c-.78.78-.78 2.05 0 2.83L4 21.41c.39.39.9.59 1.41.59.51 0 1.02-.2 1.41-.59l7.78-7.78 2.81-2.81c.8-.78.8-2.07 0-2.86zM5.41 20L4 18.59l7.72-7.72 1.47 1.35L5.41 20z\"/>\n",
              "  </svg>\n",
              "      </button>\n",
              "      \n",
              "  <style>\n",
              "    .colab-df-container {\n",
              "      display:flex;\n",
              "      flex-wrap:wrap;\n",
              "      gap: 12px;\n",
              "    }\n",
              "\n",
              "    .colab-df-convert {\n",
              "      background-color: #E8F0FE;\n",
              "      border: none;\n",
              "      border-radius: 50%;\n",
              "      cursor: pointer;\n",
              "      display: none;\n",
              "      fill: #1967D2;\n",
              "      height: 32px;\n",
              "      padding: 0 0 0 0;\n",
              "      width: 32px;\n",
              "    }\n",
              "\n",
              "    .colab-df-convert:hover {\n",
              "      background-color: #E2EBFA;\n",
              "      box-shadow: 0px 1px 2px rgba(60, 64, 67, 0.3), 0px 1px 3px 1px rgba(60, 64, 67, 0.15);\n",
              "      fill: #174EA6;\n",
              "    }\n",
              "\n",
              "    [theme=dark] .colab-df-convert {\n",
              "      background-color: #3B4455;\n",
              "      fill: #D2E3FC;\n",
              "    }\n",
              "\n",
              "    [theme=dark] .colab-df-convert:hover {\n",
              "      background-color: #434B5C;\n",
              "      box-shadow: 0px 1px 3px 1px rgba(0, 0, 0, 0.15);\n",
              "      filter: drop-shadow(0px 1px 2px rgba(0, 0, 0, 0.3));\n",
              "      fill: #FFFFFF;\n",
              "    }\n",
              "  </style>\n",
              "\n",
              "      <script>\n",
              "        const buttonEl =\n",
              "          document.querySelector('#df-5bea2d22-7e1b-4106-9b14-ed4df130f267 button.colab-df-convert');\n",
              "        buttonEl.style.display =\n",
              "          google.colab.kernel.accessAllowed ? 'block' : 'none';\n",
              "\n",
              "        async function convertToInteractive(key) {\n",
              "          const element = document.querySelector('#df-5bea2d22-7e1b-4106-9b14-ed4df130f267');\n",
              "          const dataTable =\n",
              "            await google.colab.kernel.invokeFunction('convertToInteractive',\n",
              "                                                     [key], {});\n",
              "          if (!dataTable) return;\n",
              "\n",
              "          const docLinkHtml = 'Like what you see? Visit the ' +\n",
              "            '<a target=\"_blank\" href=https://colab.research.google.com/notebooks/data_table.ipynb>data table notebook</a>'\n",
              "            + ' to learn more about interactive tables.';\n",
              "          element.innerHTML = '';\n",
              "          dataTable['output_type'] = 'display_data';\n",
              "          await google.colab.output.renderOutput(dataTable, element);\n",
              "          const docLink = document.createElement('div');\n",
              "          docLink.innerHTML = docLinkHtml;\n",
              "          element.appendChild(docLink);\n",
              "        }\n",
              "      </script>\n",
              "    </div>\n",
              "  </div>\n",
              "  "
            ]
          },
          "metadata": {},
          "execution_count": 5
        }
      ],
      "source": [
        "# View data\n",
        "df"
      ]
    },
    {
      "cell_type": "markdown",
      "id": "6064f05a-464f-450c-ab60-848109fda8b8",
      "metadata": {
        "id": "6064f05a-464f-450c-ab60-848109fda8b8"
      },
      "source": [
        "Now, we might be interested in seeing if the data reflects differences between iris types. Let's compare their petal traits."
      ]
    },
    {
      "cell_type": "code",
      "execution_count": 6,
      "id": "d6b41fef",
      "metadata": {
        "colab": {
          "base_uri": "https://localhost:8080/",
          "height": 361
        },
        "id": "d6b41fef",
        "outputId": "16abd78f-761d-406e-bbc9-54f66709e074"
      },
      "outputs": [
        {
          "output_type": "display_data",
          "data": {
            "text/plain": [
              "<Figure size 720x360 with 2 Axes>"
            ],
            "image/png": "[encoded data removed]"
          },
          "metadata": {
            "needs_background": "light"
          }
        }
      ],
      "source": [
        "# Plot petal length/width by iris type\n",
        "fig, ax = plt.subplots(1, 2, figsize=(10, 5))\n",
        "df.boxplot(\"petal.length\", \"variety\", ax=ax[0])\n",
        "df.boxplot(\"petal.width\", \"variety\", ax=ax[1])\n",
        "plt.show()"
      ]
    },
    {
      "cell_type": "markdown",
      "id": "123e23a1-68b7-4f62-bddc-1ab8534b8600",
      "metadata": {
        "id": "123e23a1-68b7-4f62-bddc-1ab8534b8600"
      },
      "source": [
        "Overall, we observe noticeable differences between iris types, especially between Setosa and Virginica. Let's quantify differences between the two types."
      ]
    },
    {
      "cell_type": "code",
      "execution_count": 7,
      "id": "5dde49ae-8f40-44f9-b03f-161fbdf12af5",
      "metadata": {
        "id": "5dde49ae-8f40-44f9-b03f-161fbdf12af5"
      },
      "outputs": [],
      "source": [
        "# Calculate averages for Setosa\n",
        "avg_length_setosa = df.query(\"variety == 'Setosa'\")[\"petal.length\"].mean()\n",
        "avg_width_setosa = df.query(\"variety == 'Setosa'\")[\"petal.width\"].mean()\n",
        "\n",
        "# Calculate averages for Virginica\n",
        "avg_length_virginica = df.query(\"variety == 'Virginica'\")[\"petal.length\"].mean()\n",
        "avg_width_virginica = df.query(\"variety == 'Virginica'\")[\"petal.width\"].mean()\n",
        "\n",
        "# Calculate differences\n",
        "diff_avg_length = avg_length_setosa - avg_length_virginica\n",
        "diff_avg_width = avg_width_setosa - avg_width_virginica"
      ]
    },
    {
      "cell_type": "code",
      "execution_count": 8,
      "id": "05473239-4552-4edb-ab9c-58ae8875a2e4",
      "metadata": {
        "colab": {
          "base_uri": "https://localhost:8080/"
        },
        "id": "05473239-4552-4edb-ab9c-58ae8875a2e4",
        "outputId": "e9482a63-ff64-4558-db33-466df56775fe"
      },
      "outputs": [
        {
          "output_type": "stream",
          "name": "stdout",
          "text": [
            "Difference in average length: -4.09\n",
            "Difference in average width: -1.7800000000000002\n"
          ]
        }
      ],
      "source": [
        "# View result\n",
        "print(\"Difference in average length:\", diff_avg_length)\n",
        "print(\"Difference in average width:\", diff_avg_width)"
      ]
    },
    {
      "cell_type": "markdown",
      "id": "c9cd1bbc-af3b-44e2-9a33-276781461a79",
      "metadata": {
        "id": "c9cd1bbc-af3b-44e2-9a33-276781461a79"
      },
      "source": [
        "## Storing an artifact with `save()`"
      ]
    },
    {
      "cell_type": "markdown",
      "id": "f113fb06-f017-4162-93df-ef406b00dced",
      "metadata": {
        "id": "f113fb06-f017-4162-93df-ef406b00dced"
      },
      "source": [
        "Say we are particularly interested in tracking the average length difference between Setosa and Virginica. For instance, we might want to use this variable later for population-level modeling of the two species.\n",
        "\n",
        "The `save()` API allows us to store a variable's value *and* history as a data type called `LineaArtifact`. Note that `LineaArtifact` holds more than the final state of the variable &mdash; it also captures the complete development process behind the variable, which allows for full reproducibility. For more information about artifacts in LineaPy, please check the [Concepts](https://docs.lineapy.org/en/latest/fundamentals/concepts.html) section.\n",
        "\n",
        "The API requires two arguments: the variable to save and the string name to save it as. It returns the saved artifact."
      ]
    },
    {
      "cell_type": "code",
      "execution_count": 9,
      "id": "0cf4a382-6a38-4e3e-8134-ef867a6150f5",
      "metadata": {
        "colab": {
          "base_uri": "https://localhost:8080/",
          "height": 33
        },
        "id": "0cf4a382-6a38-4e3e-8134-ef867a6150f5",
        "outputId": "dd8058df-39ee-449f-d935-b386755c59ff"
      },
      "outputs": [
        {
          "output_type": "display_data",
          "data": {
            "text/plain": [
              "Folder \u001b[35m/root/.lineapy/\u001b[0m\u001b[95mlinea_pickles\u001b[0m does not exist. Creating a new one.                      \n"
            ],
            "text/html": [
              "<pre style=\"white-space:pre;overflow-x:auto;line-height:normal;font-family:Menlo,'DejaVu Sans Mono',consolas,'Courier New',monospace\">Folder <span style=\"color: #800080; text-decoration-color: #800080\">/root/.lineapy/</span><span style=\"color: #ff00ff; text-decoration-color: #ff00ff\">linea_pickles</span> does not exist. Creating a new one.                      \n",
              "</pre>\n"
            ]
          },
          "metadata": {}
        }
      ],
      "source": [
        "# Store the variable as an artifact\n",
        "length_artifact = lineapy.save(diff_avg_length, \"iris_diff_avg_length\")"
      ]
    },
    {
      "cell_type": "code",
      "source": [
        "# Check object type\n",
        "print(type(length_artifact))"
      ],
      "metadata": {
        "colab": {
          "base_uri": "https://localhost:8080/"
        },
        "id": "igCWa56SqK0R",
        "outputId": "b9fc4ef1-dbb0-4a1a-c8e3-b66d71feb138"
      },
      "id": "igCWa56SqK0R",
      "execution_count": 10,
      "outputs": [
        {
          "output_type": "stream",
          "name": "stdout",
          "text": [
            "<class 'lineapy.api.api_classes.LineaArtifact'>\n"
          ]
        }
      ]
    },
    {
      "cell_type": "markdown",
      "id": "a5a43371-2fc9-4c37-9d41-e7be828c10b5",
      "metadata": {
        "id": "a5a43371-2fc9-4c37-9d41-e7be828c10b5"
      },
      "source": [
        "`LineaArtifact` object has two key methods:\n",
        "\n",
        "- `.get_value()` returns value of the artifact, e.g., an integer or a dataframe\n",
        "- `.get_code()` returns minimal essential code to create the value\n",
        "\n",
        "Hence, for the current artifacts, we see:"
      ]
    },
    {
      "cell_type": "code",
      "execution_count": 11,
      "id": "dbb3ebd5-6979-489f-ae28-4fff9165928f",
      "metadata": {
        "colab": {
          "base_uri": "https://localhost:8080/"
        },
        "id": "dbb3ebd5-6979-489f-ae28-4fff9165928f",
        "outputId": "6cff0fa4-2a47-4464-d6ba-51026fe5f767"
      },
      "outputs": [
        {
          "output_type": "stream",
          "name": "stdout",
          "text": [
            "-4.09\n"
          ]
        }
      ],
      "source": [
        "# Check the value of the artifact\n",
        "print(length_artifact.get_value())"
      ]
    },
    {
      "cell_type": "markdown",
      "id": "57895ada",
      "metadata": {
        "id": "57895ada"
      },
      "source": [
        "<div class=\"alert alert-info\">\n",
        "\n",
        "☝️ ☝️ ☝️ **[FEATURE] Retrieve artifact value** ☝️ ☝️ ☝️\n",
        "\n",
        "</div>"
      ]
    },
    {
      "cell_type": "code",
      "execution_count": 12,
      "id": "20204203-363c-46c9-a976-8ac74ffd9e96",
      "metadata": {
        "colab": {
          "base_uri": "https://localhost:8080/"
        },
        "id": "20204203-363c-46c9-a976-8ac74ffd9e96",
        "outputId": "385be1e4-01e6-4fb6-fd95-77daf4349121"
      },
      "outputs": [
        {
          "output_type": "stream",
          "name": "stdout",
          "text": [
            "import pandas as pd\n",
            "\n",
            "df = pd.read_csv(\n",
            "    \"https://raw.githubusercontent.com/LineaLabs/lineapy/main/examples/tutorials/data/iris.csv\"\n",
            ")\n",
            "avg_length_setosa = df.query(\"variety == 'Setosa'\")[\"petal.length\"].mean()\n",
            "avg_length_virginica = df.query(\"variety == 'Virginica'\")[\"petal.length\"].mean()\n",
            "diff_avg_length = avg_length_setosa - avg_length_virginica\n",
            "\n"
          ]
        }
      ],
      "source": [
        "# Check minimal essential code to generate the artifact\n",
        "print(length_artifact.get_code())"
      ]
    },
    {
      "cell_type": "markdown",
      "id": "2b601572-90d8-4162-8819-a56a6683397c",
      "metadata": {
        "id": "2b601572-90d8-4162-8819-a56a6683397c"
      },
      "source": [
        "<div class=\"alert alert-info\">\n",
        "\n",
        "☝️ ☝️ ☝️ **[FEATURE] Retrieve cleaned artifact code** ☝️ ☝️ ☝️\n",
        "\n",
        "</div>"
      ]
    },
    {
      "cell_type": "markdown",
      "id": "9f966d2c",
      "metadata": {
        "id": "9f966d2c"
      },
      "source": [
        "Note that irrelevant code has been stripped out (e.g., operations relating to `diff_avg_width` only)."
      ]
    },
    {
      "cell_type": "markdown",
      "id": "08b10a48",
      "metadata": {
        "id": "08b10a48"
      },
      "source": [
        "<div class=\"alert alert-info\">\n",
        "\n",
        "**Note:** If you want, you can retrieve the artifact's full original code with `artifact.get_session_code()`.\n",
        "\n",
        "**Warning:** Given that this demo uses a temporary runtime, LineaPy artifacts stored in the current session will not persist. If you want to continue exploring LineaPy, we recommend you install and use it on your own environment.\n",
        "\n",
        "</div>"
      ]
    },
    {
      "cell_type": "markdown",
      "id": "e6773650-b7ee-476d-8d6b-d5f765e475ea",
      "metadata": {
        "id": "e6773650-b7ee-476d-8d6b-d5f765e475ea"
      },
      "source": [
        "## Listing artifacts with `artifact_store()`"
      ]
    },
    {
      "cell_type": "markdown",
      "id": "ec7dfd68-b8d5-4aa8-82ae-5c25f53c6a7a",
      "metadata": {
        "id": "ec7dfd68-b8d5-4aa8-82ae-5c25f53c6a7a"
      },
      "source": [
        "Of course, with time passing, we may not remember what artifacts we saved and under what names. The `artifact_store()` API allows us to see the list of all previously saved artifacts, like so:"
      ]
    },
    {
      "cell_type": "code",
      "execution_count": 13,
      "id": "abd4ab03-2e9d-4416-bb68-cd2f76894cbc",
      "metadata": {
        "colab": {
          "base_uri": "https://localhost:8080/"
        },
        "id": "abd4ab03-2e9d-4416-bb68-cd2f76894cbc",
        "outputId": "ef618f48-f47d-406c-fafb-d17ca787da8a"
      },
      "outputs": [
        {
          "output_type": "execute_result",
          "data": {
            "text/plain": [
              "iris_diff_avg_length:0 created on 2022-07-05 15:06:19.571205"
            ]
          },
          "metadata": {},
          "execution_count": 13
        }
      ],
      "source": [
        "# List all saved artifacts\n",
        "lineapy.artifact_store()"
      ]
    },
    {
      "cell_type": "markdown",
      "id": "32cff33f",
      "metadata": {
        "id": "32cff33f"
      },
      "source": [
        "<div class=\"alert alert-info\">\n",
        "\n",
        "☝️ ☝️ ☝️ **[FEATURE] Retrieve all artifacts** ☝️ ☝️ ☝️\n",
        "\n",
        "</div>"
      ]
    },
    {
      "cell_type": "markdown",
      "id": "HhD9Dn-HjD7F",
      "metadata": {
        "id": "HhD9Dn-HjD7F"
      },
      "source": [
        "Note that the artifact store records each artifact’s creation time, which means that multiple versions can be stored under the same artifact name. Hence, if we update and save `iris_diff_avg_length` artifact again, we get:\n"
      ]
    },
    {
      "cell_type": "code",
      "source": [
        "# Update and re-save the artifact\n",
        "diff_avg_length_updated = diff_avg_length + 1\n",
        "length_artifact = lineapy.save(diff_avg_length_updated, \"iris_diff_avg_length\")"
      ],
      "metadata": {
        "id": "ED5t3dUpq0RL"
      },
      "id": "ED5t3dUpq0RL",
      "execution_count": 14,
      "outputs": []
    },
    {
      "cell_type": "code",
      "source": [
        "# List all saved artifacts\n",
        "lineapy.artifact_store()"
      ],
      "metadata": {
        "colab": {
          "base_uri": "https://localhost:8080/"
        },
        "id": "CTgAyzIXq1P9",
        "outputId": "2df69016-88ff-4fca-9359-7a452e397c94"
      },
      "id": "CTgAyzIXq1P9",
      "execution_count": 15,
      "outputs": [
        {
          "output_type": "execute_result",
          "data": {
            "text/plain": [
              "iris_diff_avg_length:0 created on 2022-07-05 15:06:19.571205\n",
              "iris_diff_avg_length:1 created on 2022-07-05 15:06:21.342971"
            ]
          },
          "metadata": {},
          "execution_count": 15
        }
      ]
    },
    {
      "cell_type": "markdown",
      "id": "cfd03dad-14b8-470e-8651-18a6d14fd2f0",
      "metadata": {
        "id": "cfd03dad-14b8-470e-8651-18a6d14fd2f0"
      },
      "source": [
        "## Retrieving an artifact with `get()`"
      ]
    },
    {
      "cell_type": "markdown",
      "id": "fd81dfc3-293e-4cb9-b4f1-109232cb6dc3",
      "metadata": {
        "id": "fd81dfc3-293e-4cb9-b4f1-109232cb6dc3"
      },
      "source": [
        "We can retrieve any stored artifact using the `get()` API. This comes in handy when we work across multiple sessions/phases of a project (or even across different projects) as we can easily build on the previous work.\n",
        "\n",
        "For example, say we have done other exploratory analyses and are finally starting our work on population-level modeling. This is likely done in a new Jupyter notebook (possibly in a different subdirectory) and we need an easy way to load artifacts from our past work. We can use the `get()` API for this.\n",
        "\n",
        "The API takes the string name of the artifact as its argument and returns the corresponding artifact, like so:"
      ]
    },
    {
      "cell_type": "code",
      "execution_count": 16,
      "id": "6978f92f-2488-45e4-aebb-707f0113c065",
      "metadata": {
        "id": "6978f92f-2488-45e4-aebb-707f0113c065"
      },
      "outputs": [],
      "source": [
        "# Retrieve a saved artifact\n",
        "length_artifact_B = lineapy.get(\"iris_diff_avg_length\")"
      ]
    },
    {
      "cell_type": "markdown",
      "source": [
        "By default, the `get()` API retrieves the latest version of the given artifact."
      ],
      "metadata": {
        "id": "G0_TYaMtro8t"
      },
      "id": "G0_TYaMtro8t"
    },
    {
      "cell_type": "code",
      "source": [
        "# Check artifact version\n",
        "print(length_artifact_B.version)"
      ],
      "metadata": {
        "colab": {
          "base_uri": "https://localhost:8080/"
        },
        "id": "PMoF5p1wrXh8",
        "outputId": "499f7718-6185-4146-d21b-eb89303af471"
      },
      "id": "PMoF5p1wrXh8",
      "execution_count": 17,
      "outputs": [
        {
          "output_type": "stream",
          "name": "stdout",
          "text": [
            "1\n"
          ]
        }
      ]
    },
    {
      "cell_type": "code",
      "source": [
        "# Check artifact value\n",
        "print(length_artifact_B.get_value())"
      ],
      "metadata": {
        "colab": {
          "base_uri": "https://localhost:8080/"
        },
        "id": "acYL_EdlrXrM",
        "outputId": "3e88e4cd-f6ef-4ac1-c97a-77b8d4d83979"
      },
      "id": "acYL_EdlrXrM",
      "execution_count": 18,
      "outputs": [
        {
          "output_type": "stream",
          "name": "stdout",
          "text": [
            "-3.09\n"
          ]
        }
      ]
    },
    {
      "cell_type": "code",
      "source": [
        "# Check artifact code\n",
        "print(length_artifact_B.get_code())"
      ],
      "metadata": {
        "colab": {
          "base_uri": "https://localhost:8080/"
        },
        "id": "ixAnfRJLrhgV",
        "outputId": "211943aa-513e-4a11-ed37-63f50a5f923b"
      },
      "id": "ixAnfRJLrhgV",
      "execution_count": 19,
      "outputs": [
        {
          "output_type": "stream",
          "name": "stdout",
          "text": [
            "import pandas as pd\n",
            "\n",
            "df = pd.read_csv(\n",
            "    \"https://raw.githubusercontent.com/LineaLabs/lineapy/main/examples/tutorials/data/iris.csv\"\n",
            ")\n",
            "avg_length_setosa = df.query(\"variety == 'Setosa'\")[\"petal.length\"].mean()\n",
            "avg_length_virginica = df.query(\"variety == 'Virginica'\")[\"petal.length\"].mean()\n",
            "diff_avg_length = avg_length_setosa - avg_length_virginica\n",
            "diff_avg_length_updated = diff_avg_length + 1\n",
            "\n"
          ]
        }
      ]
    },
    {
      "cell_type": "markdown",
      "id": "tFVmjoq4km77",
      "metadata": {
        "id": "tFVmjoq4km77"
      },
      "source": [
        "To retrieve a particular version of the artifact, say the very original one, we can specify the value of the optional argument `version`, like so:"
      ]
    },
    {
      "cell_type": "code",
      "source": [
        "# Retrieve an older version of the artifact\n",
        "length_artifact_C = lineapy.get(\"iris_diff_avg_length\", version=0)"
      ],
      "metadata": {
        "id": "RqoqSLszsbo_"
      },
      "id": "RqoqSLszsbo_",
      "execution_count": 20,
      "outputs": []
    },
    {
      "cell_type": "code",
      "source": [
        "# Check artifact version\n",
        "print(length_artifact_C.version)"
      ],
      "metadata": {
        "colab": {
          "base_uri": "https://localhost:8080/"
        },
        "id": "J8aD9sixscn5",
        "outputId": "babe7d11-1cac-411d-a490-d5fa90fe64e9"
      },
      "id": "J8aD9sixscn5",
      "execution_count": 21,
      "outputs": [
        {
          "output_type": "stream",
          "name": "stdout",
          "text": [
            "0\n"
          ]
        }
      ]
    },
    {
      "cell_type": "code",
      "source": [
        "# Check artifact value\n",
        "print(length_artifact_C.get_value())"
      ],
      "metadata": {
        "colab": {
          "base_uri": "https://localhost:8080/"
        },
        "id": "i0PTuPfWscqV",
        "outputId": "8ae6ebea-4113-4938-f42c-f212f4e28453"
      },
      "id": "i0PTuPfWscqV",
      "execution_count": 22,
      "outputs": [
        {
          "output_type": "stream",
          "name": "stdout",
          "text": [
            "-4.09\n"
          ]
        }
      ]
    },
    {
      "cell_type": "code",
      "source": [
        "# Check artifact code\n",
        "print(length_artifact_C.get_code())"
      ],
      "metadata": {
        "colab": {
          "base_uri": "https://localhost:8080/"
        },
        "id": "jIaffVG8scsv",
        "outputId": "ca79012c-7ced-49a8-f000-dd512f2b073a"
      },
      "id": "jIaffVG8scsv",
      "execution_count": 23,
      "outputs": [
        {
          "output_type": "stream",
          "name": "stdout",
          "text": [
            "import pandas as pd\n",
            "\n",
            "df = pd.read_csv(\n",
            "    \"https://raw.githubusercontent.com/LineaLabs/lineapy/main/examples/tutorials/data/iris.csv\"\n",
            ")\n",
            "avg_length_setosa = df.query(\"variety == 'Setosa'\")[\"petal.length\"].mean()\n",
            "avg_length_virginica = df.query(\"variety == 'Virginica'\")[\"petal.length\"].mean()\n",
            "diff_avg_length = avg_length_setosa - avg_length_virginica\n",
            "\n"
          ]
        }
      ]
    },
    {
      "cell_type": "markdown",
      "source": [
        "## Deleting an artifact with `delete()`"
      ],
      "metadata": {
        "id": "ZwJAfla_TVVu"
      },
      "id": "ZwJAfla_TVVu"
    },
    {
      "cell_type": "markdown",
      "source": [
        "With time passing, it is likely that the artifact store contains many artifacts, including some that we no longer need/want. We can use the `delete()` API to remove such undesired artifacts. For instance, we currently have two versions of `iris_diff_avg_length` artifact, like so:"
      ],
      "metadata": {
        "id": "gWmJPCEFTfIO"
      },
      "id": "gWmJPCEFTfIO"
    },
    {
      "cell_type": "code",
      "source": [
        "# List all saved artifacts\n",
        "lineapy.artifact_store()"
      ],
      "metadata": {
        "colab": {
          "base_uri": "https://localhost:8080/"
        },
        "id": "T_fWRX3YTffN",
        "outputId": "682e7c42-21e8-4eff-e279-cf606e2c9de7"
      },
      "id": "T_fWRX3YTffN",
      "execution_count": 24,
      "outputs": [
        {
          "output_type": "execute_result",
          "data": {
            "text/plain": [
              "iris_diff_avg_length:0 created on 2022-07-05 15:06:19.571205\n",
              "iris_diff_avg_length:1 created on 2022-07-05 15:06:21.342971"
            ]
          },
          "metadata": {},
          "execution_count": 24
        }
      ]
    },
    {
      "cell_type": "markdown",
      "source": [
        "Let's say we no longer need version `1`. We can remove it by calling the `delete()` API with the artifact name and version, as the following:"
      ],
      "metadata": {
        "id": "OEyBs3F31PbB"
      },
      "id": "OEyBs3F31PbB"
    },
    {
      "cell_type": "code",
      "source": [
        "# Delete a specific artifact\n",
        "lineapy.delete(\"iris_diff_avg_length\", version=1)"
      ],
      "metadata": {
        "colab": {
          "base_uri": "https://localhost:8080/",
          "height": 33
        },
        "id": "vEaUnwyZTfvm",
        "outputId": "72e4cf9b-70f5-45e8-ee54-f38f489d6794"
      },
      "id": "vEaUnwyZTfvm",
      "execution_count": 25,
      "outputs": [
        {
          "output_type": "display_data",
          "data": {
            "text/plain": [
              "Deleted Artifact: iris_diff_avg_length version: \u001b[1;36m1\u001b[0m                                            \n"
            ],
            "text/html": [
              "<pre style=\"white-space:pre;overflow-x:auto;line-height:normal;font-family:Menlo,'DejaVu Sans Mono',consolas,'Courier New',monospace\">Deleted Artifact: iris_diff_avg_length version: <span style=\"color: #008080; text-decoration-color: #008080; font-weight: bold\">1</span>                                            \n",
              "</pre>\n"
            ]
          },
          "metadata": {}
        }
      ]
    },
    {
      "cell_type": "markdown",
      "source": [
        "If we check the artifact store again, we no longer see the artifact:"
      ],
      "metadata": {
        "id": "206YEtcZ34Sy"
      },
      "id": "206YEtcZ34Sy"
    },
    {
      "cell_type": "code",
      "source": [
        "# List all saved artifacts\n",
        "lineapy.artifact_store()"
      ],
      "metadata": {
        "colab": {
          "base_uri": "https://localhost:8080/"
        },
        "id": "kaXn_paKTf1l",
        "outputId": "031febfc-1688-4bc9-b6a0-8fa5da65de66"
      },
      "id": "kaXn_paKTf1l",
      "execution_count": 26,
      "outputs": [
        {
          "output_type": "execute_result",
          "data": {
            "text/plain": [
              "iris_diff_avg_length:0 created on 2022-07-05 15:06:19.571205"
            ]
          },
          "metadata": {},
          "execution_count": 26
        }
      ]
    },
    {
      "cell_type": "markdown",
      "id": "e3b4b663",
      "metadata": {
        "id": "e3b4b663"
      },
      "source": [
        "## Using artifacts to build pipelines"
      ]
    },
    {
      "cell_type": "markdown",
      "id": "30UWrlEOqgkb",
      "metadata": {
        "id": "30UWrlEOqgkb"
      },
      "source": [
        "Say we are now also interested in using the average *width* difference in our population-level modeling, in which case we will store it as an artifact too:"
      ]
    },
    {
      "cell_type": "code",
      "execution_count": 27,
      "id": "rZmJlpmCqg9A",
      "metadata": {
        "id": "rZmJlpmCqg9A"
      },
      "outputs": [],
      "source": [
        "# Store the width variable as an artifact too\n",
        "width_artifact = lineapy.save(diff_avg_width, \"iris_diff_avg_width\")"
      ]
    },
    {
      "cell_type": "markdown",
      "id": "ead92868",
      "metadata": {
        "id": "ead92868"
      },
      "source": [
        "Now consider the case where our source data (i.e. `iris.csv`) gets updated. Moreover, the update is not a one-time event; the data is planned to be updated on a regular basis as new samples arrive.\n",
        "\n",
        "Since the `iris_diff_avg_length` and `iris_diff_avg_width` artifact were derived from the `iris.csv` data, this means that we need to rerun each artifact's code lest its value be stale. Given the recurring updates in the source data, we may want to build and schedule a pipeline to automatically rerun the code of both artifacts on a regular basis.\n",
        "\n",
        "Having the complete development process captured in each artifact, LineaPy makes it easy for us to to turn these two artifacts into a deployable pipeline. For instance, [Airflow](https://airflow.apache.org/) is a popular tool for pipeline building and management, and we can turn the artifacts into a set of files that can be deployed as an Airflow DAG, like so:"
      ]
    },
    {
      "cell_type": "code",
      "execution_count": 28,
      "id": "78c8cade",
      "metadata": {
        "colab": {
          "base_uri": "https://localhost:8080/",
          "height": 115
        },
        "id": "78c8cade",
        "outputId": "da7025bb-9bb8-4c7e-ea49-10f6af6dd488"
      },
      "outputs": [
        {
          "output_type": "display_data",
          "data": {
            "text/plain": [
              "Pipeline source generated in the directory: output/00_api_basics/demo_pipeline               \n"
            ],
            "text/html": [
              "<pre style=\"white-space:pre;overflow-x:auto;line-height:normal;font-family:Menlo,'DejaVu Sans Mono',consolas,'Courier New',monospace\">Pipeline source generated in the directory: output/00_api_basics/demo_pipeline               \n",
              "</pre>\n"
            ]
          },
          "metadata": {}
        },
        {
          "output_type": "display_data",
          "data": {
            "text/plain": [
              "Generated python module demo_pipeline.py                                                     \n"
            ],
            "text/html": [
              "<pre style=\"white-space:pre;overflow-x:auto;line-height:normal;font-family:Menlo,'DejaVu Sans Mono',consolas,'Courier New',monospace\">Generated python module demo_pipeline.py                                                     \n",
              "</pre>\n"
            ]
          },
          "metadata": {}
        },
        {
          "output_type": "display_data",
          "data": {
            "text/plain": [
              "Generated Dockerfile demo_pipeline_Dockerfile                                                \n"
            ],
            "text/html": [
              "<pre style=\"white-space:pre;overflow-x:auto;line-height:normal;font-family:Menlo,'DejaVu Sans Mono',consolas,'Courier New',monospace\">Generated Dockerfile demo_pipeline_Dockerfile                                                \n",
              "</pre>\n"
            ]
          },
          "metadata": {}
        },
        {
          "output_type": "display_data",
          "data": {
            "text/plain": [
              "Generated requirements file demo_pipeline_requirements.txt                                   \n"
            ],
            "text/html": [
              "<pre style=\"white-space:pre;overflow-x:auto;line-height:normal;font-family:Menlo,'DejaVu Sans Mono',consolas,'Courier New',monospace\">Generated requirements file demo_pipeline_requirements.txt                                   \n",
              "</pre>\n"
            ]
          },
          "metadata": {}
        },
        {
          "output_type": "display_data",
          "data": {
            "text/plain": [
              "Added Airflow DAG named demo_pipeline_dag. Start a run from the Airflow UI or CLI.           \n"
            ],
            "text/html": [
              "<pre style=\"white-space:pre;overflow-x:auto;line-height:normal;font-family:Menlo,'DejaVu Sans Mono',consolas,'Courier New',monospace\">Added Airflow DAG named demo_pipeline_dag. Start a run from the Airflow UI or CLI.           \n",
              "</pre>\n"
            ]
          },
          "metadata": {}
        },
        {
          "output_type": "execute_result",
          "data": {
            "text/plain": [
              "PosixPath('output/00_api_basics/demo_pipeline')"
            ]
          },
          "metadata": {},
          "execution_count": 28
        }
      ],
      "source": [
        "# Build an Airflow pipeline with both length and width artifacts\n",
        "lineapy.to_pipeline(\n",
        "    artifacts=[length_artifact.name, width_artifact.name],\n",
        "    pipeline_name=\"demo_pipeline\",\n",
        "    framework=\"AIRFLOW\",\n",
        "    output_dir=\"output/00_api_basics/demo_pipeline/\",\n",
        ")"
      ]
    },
    {
      "cell_type": "markdown",
      "id": "d8ba315d",
      "metadata": {
        "id": "d8ba315d"
      },
      "source": [
        "where\n",
        "\n",
        "- `artifacts` is the list of artifact names to be used for the pipeline\n",
        "- `pipeline_name` is the name of the pipeline\n",
        "- `output_dir` is the location to put the files for running the pipeline\n",
        "- `framework` is the name of orchestration framework to use (currently supports `SCRIPTS` and `AIRFLOW`)"
      ]
    },
    {
      "cell_type": "markdown",
      "id": "3b9b4d97",
      "metadata": {
        "id": "3b9b4d97"
      },
      "source": [
        "And we see the following files have been generated:"
      ]
    },
    {
      "cell_type": "code",
      "execution_count": 29,
      "id": "168dbbe5",
      "metadata": {
        "colab": {
          "base_uri": "https://localhost:8080/"
        },
        "id": "168dbbe5",
        "outputId": "22b6ae18-e036-43ac-e798-349b96854bb5"
      },
      "outputs": [
        {
          "output_type": "execute_result",
          "data": {
            "text/plain": [
              "['demo_pipeline_dag.py',\n",
              " 'demo_pipeline.py',\n",
              " 'demo_pipeline_Dockerfile',\n",
              " 'demo_pipeline_requirements.txt']"
            ]
          },
          "metadata": {},
          "execution_count": 29
        }
      ],
      "source": [
        "# Check the generated files for running the pipeline\n",
        "os.listdir(\"output/00_api_basics/demo_pipeline/\")"
      ]
    },
    {
      "cell_type": "markdown",
      "id": "31e7e390",
      "metadata": {
        "id": "31e7e390"
      },
      "source": [
        "where\n",
        "\n",
        "- `[PIPELINE-NAME].py` contains the artifact’s cleaned-up code packaged as a function\n",
        "- `[PIPELINE-NAME]_dag.py` uses the packaged function to define the pipeline\n",
        "- `[PIPELINE-NAME]_requirements.txt` lists dependencies for running the pipeline\n",
        "- `[PIPELINE-NAME]_Dockerfile` contains commands to set up the environment to run the pipeline"
      ]
    },
    {
      "cell_type": "markdown",
      "id": "zXbqIPBntkMM",
      "metadata": {
        "id": "zXbqIPBntkMM"
      },
      "source": [
        "Specifically, we have `demo_pipeline.py` looking as follows:"
      ]
    },
    {
      "cell_type": "code",
      "execution_count": 30,
      "id": "JYwfiWXX1bDW",
      "metadata": {
        "colab": {
          "base_uri": "https://localhost:8080/"
        },
        "id": "JYwfiWXX1bDW",
        "outputId": "5de9972e-0dc8-4473-91b3-6a50fe747d37"
      },
      "outputs": [
        {
          "output_type": "stream",
          "name": "stdout",
          "text": [
            "import pickle\n",
            "\n",
            "\n",
            "def iris_diff_avg_length():\n",
            "\n",
            "    import pandas as pd\n",
            "\n",
            "    df = pd.read_csv(\n",
            "        \"https://raw.githubusercontent.com/LineaLabs/lineapy/main/examples/tutorials/data/iris.csv\"\n",
            "    )\n",
            "    avg_length_setosa = df.query(\"variety == 'Setosa'\")[\"petal.length\"].mean()\n",
            "    avg_length_virginica = df.query(\"variety == 'Virginica'\")[\"petal.length\"].mean()\n",
            "    diff_avg_length = avg_length_setosa - avg_length_virginica\n",
            "    length_artifact = pickle.dump(diff_avg_length, open(\"ZBW0iNt.pkl\", \"wb\"))\n",
            "\n",
            "\n",
            "def iris_diff_avg_width():\n",
            "\n",
            "    import pandas as pd\n",
            "\n",
            "    df = pd.read_csv(\n",
            "        \"https://raw.githubusercontent.com/LineaLabs/lineapy/main/examples/tutorials/data/iris.csv\"\n",
            "    )\n",
            "    avg_width_setosa = df.query(\"variety == 'Setosa'\")[\"petal.width\"].mean()\n",
            "    avg_width_virginica = df.query(\"variety == 'Virginica'\")[\"petal.width\"].mean()\n",
            "    diff_avg_width = avg_width_setosa - avg_width_virginica\n",
            "    width_artifact = pickle.dump(diff_avg_width, open(\"VOkvYIy.pkl\", \"wb\"))\n"
          ]
        }
      ],
      "source": [
        "%cat output/00_api_basics/demo_pipeline/demo_pipeline.py"
      ]
    },
    {
      "cell_type": "markdown",
      "id": "jOvakSzWuNZx",
      "metadata": {
        "id": "jOvakSzWuNZx"
      },
      "source": [
        "We can see that LineaPy used artifacts to automatically 1) clean up their code to retain only essential operations and 2) package the cleaned-up code into importable functions.\n",
        "\n",
        "And we see `demo_pipeline_dag.py` automatically composing an Airflow DAG with these functions:"
      ]
    },
    {
      "cell_type": "code",
      "execution_count": 31,
      "id": "N4r32Qjg1hYW",
      "metadata": {
        "colab": {
          "base_uri": "https://localhost:8080/"
        },
        "id": "N4r32Qjg1hYW",
        "outputId": "dc65c41c-0128-484c-845c-a2305182399b"
      },
      "outputs": [
        {
          "output_type": "stream",
          "name": "stdout",
          "text": [
            "import os\n",
            "\n",
            "import demo_pipeline\n",
            "from airflow import DAG\n",
            "from airflow.operators.python_operator import PythonOperator\n",
            "from airflow.utils.dates import days_ago\n",
            "\n",
            "default_dag_args = {\"owner\": \"airflow\", \"retries\": 2, \"start_date\": days_ago(1)}\n",
            "\n",
            "dag = DAG(\n",
            "    dag_id=\"demo_pipeline_dag\",\n",
            "    schedule_interval=\"*/15 * * * *\",\n",
            "    max_active_runs=1,\n",
            "    catchup=False,\n",
            "    default_args=default_dag_args,\n",
            ")\n",
            "\n",
            "\n",
            "iris_diff_avg_length = PythonOperator(\n",
            "    dag=dag,\n",
            "    task_id=\"iris_diff_avg_length_task\",\n",
            "    python_callable=demo_pipeline.iris_diff_avg_length,\n",
            ")\n",
            "\n",
            "iris_diff_avg_width = PythonOperator(\n",
            "    dag=dag,\n",
            "    task_id=\"iris_diff_avg_width_task\",\n",
            "    python_callable=demo_pipeline.iris_diff_avg_width,\n",
            ")\n"
          ]
        }
      ],
      "source": [
        "%cat output/00_api_basics/demo_pipeline/demo_pipeline_dag.py"
      ]
    },
    {
      "cell_type": "markdown",
      "id": "d9dda73d",
      "metadata": {
        "id": "d9dda73d"
      },
      "source": [
        "These files, once placed in the location that Airflow expects (usually `dag/` under Airflow’s home directory), should let us immediately execute the pipeline from the UI or CLI.\n",
        "\n",
        "For a more detailed illustration of pipeline building, please check [this](https://docs.lineapy.org/en/latest/guide/build_pipelines/index.html#) tutorial."
      ]
    },
    {
      "cell_type": "markdown",
      "id": "3e6feba4",
      "metadata": {
        "id": "3e6feba4"
      },
      "source": [
        "## Recap\n",
        "\n",
        "In this tutorial, we learned basic functionalities of LineaPy including how to save, browse, and retrieve an artifact. We saw that a LineaPy artifact stores not only the value of a variable but also its full development code. This then helps to automate time-consuming, manual steps in a data science workflow such as code cleanup and pipeline building, hence helping data scientists move faster towards productionization and impact."
      ]
    }
  ],
  "metadata": {
    "colab": {
      "collapsed_sections": [],
      "name": "00_api_basics.ipynb",
      "provenance": []
    },
    "interpreter": {
      "hash": "cacea137424fd3104c427a06c692d13a169698dd1bd116af82859e9688265e62"
    },
    "kernelspec": {
      "display_name": "Python 3.9.12 ('lineapy39')",
      "language": "python",
      "name": "python3"
    },
    "language_info": {
      "codemirror_mode": {
        "name": "ipython",
        "version": 3
      },
      "file_extension": ".py",
      "mimetype": "text/x-python",
      "name": "python",
      "nbconvert_exporter": "python",
      "pygments_lexer": "ipython3",
      "version": "3.9.12"
    }
  },
  "nbformat": 4,
  "nbformat_minor": 5
}