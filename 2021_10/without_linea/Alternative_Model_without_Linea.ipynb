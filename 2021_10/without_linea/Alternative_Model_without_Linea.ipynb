{
 "cells": [
  {
   "cell_type": "markdown",
   "id": "4d444eae",
   "metadata": {},
   "source": [
    "## Phase: model iteration\n",
    "\n",
    "After sharing my results with my colleagues at a meeting, the more senior data scientist suggested that I can try applying a log on the sales price because the price at the high end seem to grow rather exponentially.\n",
    "\n",
    "I didn't want to edit my notebook in place, so I'm just going to copy them over and see the changes here."
   ]
  },
  {
   "cell_type": "code",
   "execution_count": 3,
   "id": "9ceb7d95",
   "metadata": {},
   "outputs": [],
   "source": [
    "import pickle\n",
    "\n",
    "with open(\"./cleaned_data_df\", 'rb') as pickle_file:\n",
    "    cleaned_data = pickle.load(pickle_file)\n",
    "\n",
    "cleaned_data = cleaned_data.dropna()\n",
    "\n"
   ]
  },
  {
   "cell_type": "code",
   "execution_count": 8,
   "id": "d9297776",
   "metadata": {},
   "outputs": [],
   "source": [
    "import numpy as np\n",
    "\n",
    "cleaned_data['SalesPriceLog'] = np.log(cleaned_data.loc[:, 'SalePrice'])"
   ]
  },
  {
   "cell_type": "code",
   "execution_count": 6,
   "id": "0e5b7959",
   "metadata": {},
   "outputs": [],
   "source": [
    "from sklearn.feature_extraction import DictVectorizer\n",
    "from sklearn.model_selection import train_test_split\n",
    "from sklearn import linear_model as lm"
   ]
  },
  {
   "cell_type": "code",
   "execution_count": 13,
   "id": "ff3be51f",
   "metadata": {},
   "outputs": [],
   "source": [
    "train, val = train_test_split(cleaned_data, test_size=0.3, random_state=42)\n",
    "X_train = train.drop(['SalesPriceLog'], axis = 1)\n",
    "y_train = train.loc[:, 'SalesPriceLog']\n",
    "X_val = val.drop(['SalesPriceLog'], axis = 1)\n",
    "y_val = val.loc[:, 'SalesPriceLog']"
   ]
  },
  {
   "cell_type": "code",
   "execution_count": 14,
   "id": "9afac688",
   "metadata": {},
   "outputs": [],
   "source": [
    "linear_model = lm.LinearRegression(fit_intercept=True)\n",
    "linear_model.fit(X_train, y_train)\n",
    "y_fitted = linear_model.predict(X_train)\n",
    "y_predicted = linear_model.predict(X_val)"
   ]
  },
  {
   "cell_type": "code",
   "execution_count": 16,
   "id": "44ae00ba",
   "metadata": {},
   "outputs": [
    {
     "data": {
      "text/plain": [
       "43597.568155385394"
      ]
     },
     "execution_count": 16,
     "metadata": {},
     "output_type": "execute_result"
    }
   ],
   "source": [
    "def rmse(predicted, actual):\n",
    "    \"\"\"\n",
    "    Calculates RMSE from actual and predicted values\n",
    "    Input:\n",
    "      predicted (1D array): vector of predicted/fitted values\n",
    "      actual (1D array): vector of actual values\n",
    "    Output:\n",
    "      a float, the root-mean square error\n",
    "    \"\"\"\n",
    "    return np.sqrt(np.mean((np.exp(actual) - np.exp(predicted))**2))\n",
    "rmse(y_predicted, y_val)"
   ]
  },
  {
   "cell_type": "code",
   "execution_count": 17,
   "id": "aff0e594",
   "metadata": {},
   "outputs": [
    {
     "data": {
      "text/plain": [
       "-0.019053207618553367"
      ]
     },
     "execution_count": 17,
     "metadata": {},
     "output_type": "execute_result"
    }
   ],
   "source": [
    "(43597.568155385394 - 44444.37608032081) / 44444.37608032081"
   ]
  },
  {
   "cell_type": "markdown",
   "id": "de433ad9",
   "metadata": {},
   "source": [
    "## Conclusion\n",
    "\n",
    "We find that this does decrease the error rate by about 1 percent."
   ]
  }
 ],
 "metadata": {
  "kernelspec": {
   "display_name": "Python 3 (ipykernel)",
   "language": "python",
   "name": "python3"
  },
  "language_info": {
   "codemirror_mode": {
    "name": "ipython",
    "version": 3
   },
   "file_extension": ".py",
   "mimetype": "text/x-python",
   "name": "python",
   "nbconvert_exporter": "python",
   "pygments_lexer": "ipython3",
   "version": "3.9.6"
  }
 },
 "nbformat": 4,
 "nbformat_minor": 5
}
