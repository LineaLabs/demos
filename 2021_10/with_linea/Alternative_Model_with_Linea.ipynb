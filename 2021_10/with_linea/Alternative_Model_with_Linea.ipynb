{
 "cells": [
  {
   "cell_type": "markdown",
   "id": "4d444eae",
   "metadata": {},
   "source": [
    "## Phase: model iteration\n",
    "\n",
    "After sharing my results with my colleagues at a meeting, the more senior data scientist suggested that I can try applying a log on the sales price because the price at the high end seem to grow rather exponentially.\n",
    "\n",
    "I didn't want to edit my notebook in place, so I'm just going to copy them over and see the changes here."
   ]
  },
  {
   "cell_type": "code",
   "execution_count": null,
   "id": "9ceb7d95",
   "metadata": {},
   "outputs": [],
   "source": [
    "import lineapy"
   ]
  },
  {
   "cell_type": "code",
   "execution_count": null,
   "id": "a8d7bd1d-3cff-4b8c-80fe-87773640077d",
   "metadata": {},
   "outputs": [],
   "source": [
    "cleaned_data = lineapy.get(\"cleaned_data_housing\").value"
   ]
  },
  {
   "cell_type": "code",
   "execution_count": 1,
   "id": "3a04a7c1-49c5-4d23-8a41-c66693d22615",
   "metadata": {},
   "outputs": [],
   "source": [
    "import pickle\n",
    "\n",
    "with open(\"../without_linea/cleaned_data_df\", 'rb') as pickle_file:\n",
    "    cleaned_data = pickle.load(pickle_file)"
   ]
  },
  {
   "cell_type": "code",
   "execution_count": 2,
   "id": "7a276694-3e21-4ba4-bf28-76c623ac9127",
   "metadata": {},
   "outputs": [],
   "source": [
    "cleaned_data = cleaned_data.dropna()"
   ]
  },
  {
   "cell_type": "code",
   "execution_count": 3,
   "id": "d9297776",
   "metadata": {},
   "outputs": [],
   "source": [
    "import numpy as np\n",
    "\n",
    "cleaned_data['SalesPriceLog'] = np.log(cleaned_data.loc[:, 'SalePrice'])"
   ]
  },
  {
   "cell_type": "code",
   "execution_count": 4,
   "id": "0e5b7959",
   "metadata": {},
   "outputs": [],
   "source": [
    "from sklearn.feature_extraction import DictVectorizer\n",
    "from sklearn.model_selection import train_test_split\n",
    "from sklearn import linear_model as lm"
   ]
  },
  {
   "cell_type": "code",
   "execution_count": 5,
   "id": "ff3be51f",
   "metadata": {},
   "outputs": [],
   "source": [
    "train, val = train_test_split(cleaned_data, test_size=0.3, random_state=42)\n",
    "X_train = train.drop(['SalesPriceLog'], axis = 1)\n",
    "y_train = train.loc[:, 'SalesPriceLog']\n",
    "X_val = val.drop(['SalesPriceLog'], axis = 1)\n",
    "y_val = val.loc[:, 'SalesPriceLog']"
   ]
  },
  {
   "cell_type": "code",
   "execution_count": 6,
   "id": "9afac688",
   "metadata": {},
   "outputs": [],
   "source": [
    "linear_model = lm.LinearRegression(fit_intercept=True)\n",
    "linear_model.fit(X_train, y_train)\n",
    "y_fitted = linear_model.predict(X_train)\n",
    "y_predicted = linear_model.predict(X_val)"
   ]
  },
  {
   "cell_type": "code",
   "execution_count": 7,
   "id": "44ae00ba",
   "metadata": {},
   "outputs": [
    {
     "data": {
      "text/plain": [
       "43597.568155385394"
      ]
     },
     "execution_count": 7,
     "metadata": {},
     "output_type": "execute_result"
    }
   ],
   "source": [
    "def rmse(predicted, actual):\n",
    "    \"\"\"\n",
    "    Calculates RMSE from actual and predicted values\n",
    "    Input:\n",
    "      predicted (1D array): vector of predicted/fitted values\n",
    "      actual (1D array): vector of actual values\n",
    "    Output:\n",
    "      a float, the root-mean square error\n",
    "    \"\"\"\n",
    "    return np.sqrt(np.mean((np.exp(actual) - np.exp(predicted))**2))\n",
    "rmse(y_predicted, y_val)"
   ]
  },
  {
   "cell_type": "code",
   "execution_count": null,
   "id": "aff0e594",
   "metadata": {},
   "outputs": [],
   "source": [
    "(43597.568155385394 - 44444.37608032081) / 44444.37608032081"
   ]
  },
  {
   "cell_type": "markdown",
   "id": "de433ad9",
   "metadata": {},
   "source": [
    "## Conclusion\n",
    "\n",
    "We find that this does decrease the error rate by about 1 percent."
   ]
  },
  {
   "cell_type": "code",
   "execution_count": null,
   "id": "adc49766-4956-4aa0-9c98-3e64c0a5b110",
   "metadata": {},
   "outputs": [],
   "source": [
    "model_artifact = lineapy.save(linear_model, \"linear_model_housing_with_log_transform\")"
   ]
  },
  {
   "cell_type": "code",
   "execution_count": null,
   "id": "14981fb3-5596-48b9-bc55-bf471632d527",
   "metadata": {},
   "outputs": [],
   "source": [
    "model_artifact.to_pipeline()()"
   ]
  }
 ],
 "metadata": {
  "kernelspec": {
   "display_name": "Python 3 (ipykernel)",
   "language": "python",
   "name": "python3"
  },
  "language_info": {
   "codemirror_mode": {
    "name": "ipython",
    "version": 3
   },
   "file_extension": ".py",
   "mimetype": "text/x-python",
   "name": "python",
   "nbconvert_exporter": "python",
   "pygments_lexer": "ipython3",
   "version": "3.9.6"
  }
 },
 "nbformat": 4,
 "nbformat_minor": 5
}
