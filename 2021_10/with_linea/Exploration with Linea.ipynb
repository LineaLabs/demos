{
 "cells": [
  {
   "cell_type": "code",
   "execution_count": 1,
   "id": "69bf6738",
   "metadata": {},
   "outputs": [
    {
     "name": "stderr",
     "output_type": "stream",
     "text": [
      "/home/ubuntu/linea-dev/lineapy/lineapy/db/relational/db.py:348: SAWarning: SELECT statement has a cartesian product between FROM element(s) \"node\" and FROM element \"artifact\".  Apply join condition(s) between each element to resolve.\n",
      "  self.session.query(ArtifactORM)\n",
      "Warning: transparent is not a known color.\n"
     ]
    },
    {
     "data": {
      "image/svg+xml": [
       "<svg xmlns=\"http://www.w3.org/2000/svg\" xmlns:xlink=\"http://www.w3.org/1999/xlink\" width=\"457pt\" height=\"389pt\" viewBox=\"0.00 0.00 456.50 389.00\">\n",
       "<g id=\"graph0\" class=\"graph\" transform=\"scale(1 1) rotate(0) translate(4 385)\">\n",
       "<title>%3</title>\n",
       "<polygon fill=\"white\" stroke=\"transparent\" points=\"-4,4 -4,-385 452.5,-385 452.5,4 -4,4\"/>\n",
       "<g id=\"clust1\" class=\"cluster\">\n",
       "<title>cluster_0</title>\n",
       "<polygon fill=\"none\" stroke=\"#636363\" points=\"65,-8 65,-373 149,-373 149,-8 65,-8\"/>\n",
       "<text text-anchor=\"middle\" x=\"107\" y=\"-357.8\" font-family=\"Times,serif\" font-size=\"14.00\">Legend</text>\n",
       "</g>\n",
       "<!-- legend_node_Call -->\n",
       "<g id=\"node1\" class=\"node\">\n",
       "<title>legend_node_Call</title>\n",
       "<polygon fill=\"#ccebc5\" stroke=\"#ccebc5\" points=\"80,-305.5 80,-341.5 134,-341.5 134,-305.5 80,-305.5\"/>\n",
       "<text text-anchor=\"middle\" x=\"107\" y=\"-319.8\" font-family=\"Times,serif\" font-size=\"14.00\">Call</text>\n",
       "<polygon fill=\"#f2f2f2\" stroke=\"#000000\" points=\"0,-357 0,-372 80,-372 80,-357 0,-357\"/>\n",
       "<text text-anchor=\"start\" x=\"4\" y=\"-362\" font-family=\"Times,serif\" font-size=\"10.00\">Artifact Name</text>\n",
       "<polygon fill=\"#e5d8bd\" stroke=\"#000000\" points=\"0,-342 0,-357 80,-357 80,-342 0,-342\"/>\n",
       "<text text-anchor=\"start\" x=\"2\" y=\"-347\" font-family=\"Times,serif\" font-size=\"10.00\">Variable Name</text>\n",
       "</g>\n",
       "<!-- legend_node_Literal -->\n",
       "<g id=\"node2\" class=\"node\">\n",
       "<title>legend_node_Literal</title>\n",
       "<polygon fill=\"#decbe4\" stroke=\"#decbe4\" points=\"139,-269 75,-269 75,-233 139,-233 139,-269\"/>\n",
       "<text text-anchor=\"middle\" x=\"107\" y=\"-247.3\" font-family=\"Times,serif\" font-size=\"14.00\">Literal</text>\n",
       "</g>\n",
       "<!-- legend_node_Call&#45;&gt;legend_node_Literal -->\n",
       "<!-- legend_node_Import -->\n",
       "<g id=\"node3\" class=\"node\">\n",
       "<title>legend_node_Import</title>\n",
       "<polygon fill=\"#ffffcc\" stroke=\"#ffffcc\" points=\"139.5,-197 74.5,-197 74.5,-161 139.5,-161 139.5,-197\"/>\n",
       "<text text-anchor=\"middle\" x=\"107\" y=\"-175.3\" font-family=\"Times,serif\" font-size=\"14.00\">Import</text>\n",
       "</g>\n",
       "<!-- legend_node_Literal&#45;&gt;legend_node_Import -->\n",
       "<!-- legend_node_Lookup -->\n",
       "<g id=\"node4\" class=\"node\">\n",
       "<title>legend_node_Lookup</title>\n",
       "<polygon fill=\"#fddaec\" stroke=\"#fddaec\" points=\"141,-125 73,-125 73,-89 141,-89 141,-125\"/>\n",
       "<text text-anchor=\"middle\" x=\"107\" y=\"-103.3\" font-family=\"Times,serif\" font-size=\"14.00\">Lookup</text>\n",
       "</g>\n",
       "<!-- legend_node_Import&#45;&gt;legend_node_Lookup -->\n",
       "<!-- legend_node_Mutate -->\n",
       "<g id=\"node5\" class=\"node\">\n",
       "<title>legend_node_Mutate</title>\n",
       "<polygon fill=\"#fed9a6\" stroke=\"#fed9a6\" points=\"73,-16.5 73,-52.5 141,-52.5 141,-16.5 73,-16.5\"/>\n",
       "<text text-anchor=\"middle\" x=\"107\" y=\"-30.8\" font-family=\"Times,serif\" font-size=\"14.00\">Mutate</text>\n",
       "</g>\n",
       "<!-- legend_node_Lookup&#45;&gt;legend_node_Mutate -->\n",
       "<!-- 37051913&#45;b2bb&#45;4d53&#45;8177&#45;ae85469c9ea4 -->\n",
       "<g id=\"node6\" class=\"node\">\n",
       "<title>37051913-b2bb-4d53-8177-ae85469c9ea4</title>\n",
       "<polygon fill=\"#ffffcc\" stroke=\"#ffffcc\" points=\"267.5,-269 202.5,-269 202.5,-233 267.5,-233 267.5,-269\"/>\n",
       "<text text-anchor=\"middle\" x=\"235\" y=\"-247.3\" font-family=\"Times,serif\" font-size=\"14.00\">numpy</text>\n",
       "<polygon fill=\"#e5d8bd\" stroke=\"#000000\" points=\"184.5,-268.5 184.5,-283.5 202.5,-283.5 202.5,-268.5 184.5,-268.5\"/>\n",
       "<text text-anchor=\"start\" x=\"186.5\" y=\"-273.5\" font-family=\"Times,serif\" font-size=\"10.00\">np</text>\n",
       "</g>\n",
       "<!-- 25b22675&#45;a661&#45;4880&#45;990a&#45;02ec346eddc4 -->\n",
       "<g id=\"node7\" class=\"node\">\n",
       "<title>25b22675-a661-4880-990a-02ec346eddc4</title>\n",
       "<polygon fill=\"#ffffcc\" stroke=\"#ffffcc\" points=\"401,-197 333,-197 333,-161 401,-161 401,-197\"/>\n",
       "<text text-anchor=\"middle\" x=\"367\" y=\"-175.3\" font-family=\"Times,serif\" font-size=\"14.00\">pandas</text>\n",
       "<polygon fill=\"#e5d8bd\" stroke=\"#000000\" points=\"315,-196.5 315,-211.5 333,-211.5 333,-196.5 315,-196.5\"/>\n",
       "<text text-anchor=\"start\" x=\"317\" y=\"-201.5\" font-family=\"Times,serif\" font-size=\"10.00\">pd</text>\n",
       "</g>\n",
       "<!-- 2d0d0bbf&#45;63a9&#45;4a32&#45;8973&#45;a61854cb5986&#45;1&#45;1 -->\n",
       "<g id=\"node8\" class=\"node\">\n",
       "<title>2d0d0bbf-63a9-4a32-8973-a61854cb5986-1-1</title>\n",
       "<text text-anchor=\"middle\" x=\"280\" y=\"-319.8\" font-family=\"Times,serif\" font-size=\"14.00\">import numpy as np</text>\n",
       "</g>\n",
       "<!-- 2d0d0bbf&#45;63a9&#45;4a32&#45;8973&#45;a61854cb5986&#45;1&#45;1&#45;&gt;37051913&#45;b2bb&#45;4d53&#45;8177&#45;ae85469c9ea4 -->\n",
       "<g id=\"edge5\" class=\"edge\">\n",
       "<title>2d0d0bbf-63a9-4a32-8973-a61854cb5986-1-1-&gt;37051913-b2bb-4d53-8177-ae85469c9ea4</title>\n",
       "<path fill=\"none\" stroke=\"#bdbdbd\" stroke-dasharray=\"1,5\" d=\"M269.11,-305.43C263.33,-296.39 256.16,-285.15 249.88,-275.31\"/>\n",
       "<polygon fill=\"#bdbdbd\" stroke=\"#bdbdbd\" points=\"246.11,-269.4 252.53,-273.6 247.99,-272.35 249.87,-275.3 249.87,-275.3 249.87,-275.3 247.99,-272.35 247.22,-276.99 246.11,-269.4 246.11,-269.4\"/>\n",
       "</g>\n",
       "<!-- 2d0d0bbf&#45;63a9&#45;4a32&#45;8973&#45;a61854cb5986&#45;2&#45;2 -->\n",
       "<g id=\"node9\" class=\"node\">\n",
       "<title>2d0d0bbf-63a9-4a32-8973-a61854cb5986-2-2</title>\n",
       "<text text-anchor=\"middle\" x=\"367\" y=\"-247.3\" font-family=\"Times,serif\" font-size=\"14.00\">import pandas as pd</text>\n",
       "</g>\n",
       "<!-- 2d0d0bbf&#45;63a9&#45;4a32&#45;8973&#45;a61854cb5986&#45;1&#45;1&#45;&gt;2d0d0bbf&#45;63a9&#45;4a32&#45;8973&#45;a61854cb5986&#45;2&#45;2 -->\n",
       "<!-- 2d0d0bbf&#45;63a9&#45;4a32&#45;8973&#45;a61854cb5986&#45;2&#45;2&#45;&gt;25b22675&#45;a661&#45;4880&#45;990a&#45;02ec346eddc4 -->\n",
       "<g id=\"edge7\" class=\"edge\">\n",
       "<title>2d0d0bbf-63a9-4a32-8973-a61854cb5986-2-2-&gt;25b22675-a661-4880-990a-02ec346eddc4</title>\n",
       "<path fill=\"none\" stroke=\"#bdbdbd\" stroke-dasharray=\"1,5\" d=\"M367,-232.7C367,-224.14 367,-213.66 367,-204.3\"/>\n",
       "<polygon fill=\"#bdbdbd\" stroke=\"#bdbdbd\" points=\"367,-197.1 370.15,-204.1 367,-200.6 367,-204.1 367,-204.1 367,-204.1 367,-200.6 363.85,-204.1 367,-197.1 367,-197.1\"/>\n",
       "</g>\n",
       "</g>\n",
       "</svg>"
      ],
      "text/plain": [
       "<IPython.core.display.SVG object>"
      ]
     },
     "metadata": {},
     "output_type": "display_data"
    }
   ],
   "source": [
    "import lineapy\n",
    "import lineapy.ipython\n",
    "lineapy.ipython.start(visualize=True)"
   ]
  },
  {
   "cell_type": "markdown",
   "id": "5c956c01",
   "metadata": {},
   "source": [
    "Note that we do not need the \"visualize=True\" option---it helps us to see the work that `lineapy` is doing under the hood."
   ]
  },
  {
   "cell_type": "code",
   "execution_count": 2,
   "id": "33c333a5",
   "metadata": {},
   "outputs": [
    {
     "name": "stderr",
     "output_type": "stream",
     "text": [
      "Warning: transparent is not a known color.\n"
     ]
    },
    {
     "name": "stdout",
     "output_type": "stream",
     "text": [
      "\n"
     ]
    }
   ],
   "source": [
    "import numpy as np\n",
    "import pandas as pd"
   ]
  },
  {
   "cell_type": "code",
   "execution_count": null,
   "id": "592b7b87-ca54-4369-a4b6-6a1ffa1adac5",
   "metadata": {},
   "outputs": [],
   "source": []
  }
 ],
 "metadata": {
  "kernelspec": {
   "display_name": "Python 3 (ipykernel)",
   "language": "python",
   "name": "python3"
  },
  "language_info": {
   "codemirror_mode": {
    "name": "ipython",
    "version": 3
   },
   "file_extension": ".py",
   "mimetype": "text/x-python",
   "name": "python",
   "nbconvert_exporter": "python",
   "pygments_lexer": "ipython3",
   "version": "3.9.6"
  }
 },
 "nbformat": 4,
 "nbformat_minor": 5
}
