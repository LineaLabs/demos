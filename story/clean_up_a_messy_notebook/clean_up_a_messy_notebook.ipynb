{
 "cells": [
  {
   "cell_type": "markdown",
   "metadata": {},
   "source": [
    "<p align=\"center\">\n",
    "    <!-- <a href=https://mybinder.org/v2/gh/LineaLabs/demos/main?labpath=story%2Fclean_up_a_messy_notebook%2Fclean_up_a_messy_notebook.ipynb><img src=\"https://mybinder.org/badge_logo.svg\" alt=\"Open in Binder\"/></a> -->\n",
    "    <a href=\"https://colab.research.google.com/github/LineaLabs/demos/blob/main/story/clean_up_a_messy_notebook/clean_up_a_messy_notebook.ipynb\"><img src=\"https://colab.research.google.com/assets/colab-badge.svg\" alt=\"Open in Colab\"/></a>\n",
    "</p>"
   ]
  },
  {
   "cell_type": "code",
   "execution_count": null,
   "metadata": {},
   "outputs": [],
   "source": [
    "%%capture\n",
    "\n",
    "# This cell only runs if you are running the notebook from Google Colab.\n",
    "# Colab uses an old version of IPython (`5.5.0` from 2017) that is not \n",
    "# compatible with LineaPy. Hence, we need to upgrade it first. \n",
    "# You can ignore the message \"Your session crashed for an unknown reason\" \n",
    "# at the bottom of the screen. We triggered the runtime restart with `exit()`.\n",
    "\n",
    "import IPython\n",
    "import os\n",
    "if (IPython.version_info[0] < 7) and any([k for k in dict(os.environ).keys() if k.startswith('COLAB_)')]):\n",
    "  !pip -q install ipython --upgrade\n",
    "  # To load the updated ipython that we have just installed, \n",
    "  # we need to restart the runtime. The exit() command allows \n",
    "  # us to stop the current runtime, and executing the cell after \n",
    "  # it would restart the runtime.\n",
    "  exit()\n",
    "  # this is to allow for colab runtime to restart before trying to \n",
    "  # execute the next cell."
   ]
  },
  {
   "cell_type": "markdown",
   "metadata": {},
   "source": [
    "We now install and load LineaPy, along with other packages."
   ]
  },
  {
   "cell_type": "code",
   "execution_count": null,
   "metadata": {},
   "outputs": [],
   "source": [
    "%%capture\n",
    "!pip -q install lineapy scikit-learn pandas matplotlib"
   ]
  },
  {
   "cell_type": "code",
   "execution_count": null,
   "metadata": {},
   "outputs": [],
   "source": [
    "%load_ext lineapy"
   ]
  },
  {
   "cell_type": "code",
   "execution_count": 2,
   "metadata": {
    "id": "pK9HKAGvpiuo"
   },
   "outputs": [],
   "source": [
    "import lineapy"
   ]
  },
  {
   "cell_type": "markdown",
   "metadata": {},
   "source": [
    "# Use LineaPy to Clean up Messy Notebooks"
   ]
  },
  {
   "cell_type": "markdown",
   "metadata": {},
   "source": [
    "## Scenario\n",
    "\n",
    "As a data scientist using the Jupyter notebook day-to-day, we embrace non-linear workflows, i.e., jumping around between cells, deleting cells, editing cells, and executing the same cell multiple times until we think we have some good results or \"[artifacts](https://docs.lineapy.org/en/latest/fundamentals/concepts.html#artifact)\" (e.g., tables, models, charts). Finally, we share our results and notebook with our colleagues/supervisors/stakeholders to declare victory."
   ]
  },
  {
   "cell_type": "markdown",
   "metadata": {},
   "source": [
    "## What might happen next?\n",
    "\n",
    "With the highly dynamic, non-leaner workflows in notebooks, any of the following may happen:\n",
    "\n",
    "* We spend some time reorganizing all the non-linear operations we performed in the notebook and wrapping everything into a script or different modules so we can reuse or share the logic in the future.\n",
    "* Our colleague try to rerun our notebook but cannot reproduce our result.\n",
    "* We forget this notebook. Several months from now, our supervisor asks us to rerun the notebook with the latest data but we do not remember the exact steps to produce the previous result.\n",
    "* We hand over the notebook to our ML engineers to productionize our work but they can only guess what exactly happened when we created the notebook.\n",
    "\n",
    "The common pattern here is that someone (data scientist, data engineer, or ML engineer) needs to spend the time to go through non-sequential notebook cell operations and extract them into sequential code, which might be a lot of challenge or pain when notebooks become more complex.\n",
    "\n",
    "Two normal ways to avoid these issues are:\n",
    "\n",
    "* Keep the notebook in sequential operation by constantly re-executing the entire notebook from end to end during development.\n",
    "* Version the notebook whenever there is a potential need for revisit in the future\n",
    "\n",
    "However, constantly re-executing and versioning the entire notebook creates a huge burden for the notebook author and interrupts their thinking process, hence decreasing productivity."
   ]
  },
  {
   "cell_type": "markdown",
   "metadata": {},
   "source": [
    "## How can LineaPy help here?\n",
    "\n",
    "With just two lines of code, LineaPy helps to remove the complexity of notebook productionization issues (code cleanup, versioning, etc.) from data scientists and ML engineers while having them continue to work with notebooks in their most familiar way.\n",
    "\n",
    "```\n",
    "import lineapy\n",
    "\n",
    "........................\n",
    ".\n",
    ". your original notebook\n",
    ".\n",
    "........................\n",
    "\n",
    "lineapy.save(object, 'artifact_name')\n",
    "```"
   ]
  },
  {
   "cell_type": "markdown",
   "metadata": {
    "id": "aUMTcczWmiuj"
   },
   "source": [
    "## What will we learn in rest of the notebook?\n",
    "\n",
    "In this demo, we are going to load the iris data features as a four-column data frame and mutate it several times to mimic feature engineering processes during the data exploration phase.\n",
    "\n",
    "Throughout the demo, we can save an artifact whenever we want, i.e., when we see something interesting but are not entirely sure if it is the final result we are looking for. So, we can have checkpoints and continue the exploration.\n",
    "\n",
    "In the end, we will learn:\n",
    "\n",
    "* How to use the `get_code()` method to extract cleaned-up code to create the artifact from a messy notebook.\n",
    "* How to use the artifact store to see and retrieve different versions of the same artifact.\n",
    "\n",
    "In sum, the demo will show that LineaPy can help data scientists and ML engineers save time on notebook cleanup and instead focus more on generating insights.\n",
    "\n",
    "We strongly encourage you to try this notebook on your own and check out the official [documentation](https://docs.lineapy.org/en/latest/index.html) to learn more use cases of LineaPy."
   ]
  },
  {
   "cell_type": "markdown",
   "metadata": {},
   "source": [
    "## Demo"
   ]
  },
  {
   "cell_type": "markdown",
   "metadata": {
    "id": "ZuB5tlSDQC47"
   },
   "source": [
    "### Setup the demo"
   ]
  },
  {
   "cell_type": "code",
   "execution_count": 3,
   "metadata": {
    "colab": {
     "base_uri": "https://localhost:8080/",
     "height": 424
    },
    "id": "JM12axJC2_6I",
    "outputId": "713ffe2e-7420-4573-f0a8-cb29cd0097f0"
   },
   "outputs": [
    {
     "data": {
      "text/html": [
       "<pre style=\"white-space:pre;overflow-x:auto;line-height:normal;font-family:Menlo,'DejaVu Sans Mono',consolas,'Courier New',monospace\">NumExpr defaulting to <span style=\"color: #008080; text-decoration-color: #008080; font-weight: bold\">8</span> threads.                                                             \n",
       "</pre>\n"
      ],
      "text/plain": [
       "NumExpr defaulting to \u001b[1;36m8\u001b[0m threads.                                                             \n"
      ]
     },
     "metadata": {},
     "output_type": "display_data"
    },
    {
     "data": {
      "text/html": [
       "<div>\n",
       "<style scoped>\n",
       "    .dataframe tbody tr th:only-of-type {\n",
       "        vertical-align: middle;\n",
       "    }\n",
       "\n",
       "    .dataframe tbody tr th {\n",
       "        vertical-align: top;\n",
       "    }\n",
       "\n",
       "    .dataframe thead th {\n",
       "        text-align: right;\n",
       "    }\n",
       "</style>\n",
       "<table border=\"1\" class=\"dataframe\">\n",
       "  <thead>\n",
       "    <tr style=\"text-align: right;\">\n",
       "      <th></th>\n",
       "      <th>sepal length (cm)_1</th>\n",
       "      <th>sepal width (cm)_1</th>\n",
       "      <th>petal length (cm)_1</th>\n",
       "      <th>petal width (cm)_1</th>\n",
       "    </tr>\n",
       "  </thead>\n",
       "  <tbody>\n",
       "    <tr>\n",
       "      <th>0</th>\n",
       "      <td>5.1</td>\n",
       "      <td>3.5</td>\n",
       "      <td>1.4</td>\n",
       "      <td>0.2</td>\n",
       "    </tr>\n",
       "    <tr>\n",
       "      <th>1</th>\n",
       "      <td>4.9</td>\n",
       "      <td>3.0</td>\n",
       "      <td>1.4</td>\n",
       "      <td>0.2</td>\n",
       "    </tr>\n",
       "    <tr>\n",
       "      <th>2</th>\n",
       "      <td>4.7</td>\n",
       "      <td>3.2</td>\n",
       "      <td>1.3</td>\n",
       "      <td>0.2</td>\n",
       "    </tr>\n",
       "    <tr>\n",
       "      <th>3</th>\n",
       "      <td>4.6</td>\n",
       "      <td>3.1</td>\n",
       "      <td>1.5</td>\n",
       "      <td>0.2</td>\n",
       "    </tr>\n",
       "    <tr>\n",
       "      <th>4</th>\n",
       "      <td>5.0</td>\n",
       "      <td>3.6</td>\n",
       "      <td>1.4</td>\n",
       "      <td>0.2</td>\n",
       "    </tr>\n",
       "    <tr>\n",
       "      <th>...</th>\n",
       "      <td>...</td>\n",
       "      <td>...</td>\n",
       "      <td>...</td>\n",
       "      <td>...</td>\n",
       "    </tr>\n",
       "    <tr>\n",
       "      <th>145</th>\n",
       "      <td>6.7</td>\n",
       "      <td>3.0</td>\n",
       "      <td>5.2</td>\n",
       "      <td>2.3</td>\n",
       "    </tr>\n",
       "    <tr>\n",
       "      <th>146</th>\n",
       "      <td>6.3</td>\n",
       "      <td>2.5</td>\n",
       "      <td>5.0</td>\n",
       "      <td>1.9</td>\n",
       "    </tr>\n",
       "    <tr>\n",
       "      <th>147</th>\n",
       "      <td>6.5</td>\n",
       "      <td>3.0</td>\n",
       "      <td>5.2</td>\n",
       "      <td>2.0</td>\n",
       "    </tr>\n",
       "    <tr>\n",
       "      <th>148</th>\n",
       "      <td>6.2</td>\n",
       "      <td>3.4</td>\n",
       "      <td>5.4</td>\n",
       "      <td>2.3</td>\n",
       "    </tr>\n",
       "    <tr>\n",
       "      <th>149</th>\n",
       "      <td>5.9</td>\n",
       "      <td>3.0</td>\n",
       "      <td>5.1</td>\n",
       "      <td>1.8</td>\n",
       "    </tr>\n",
       "  </tbody>\n",
       "</table>\n",
       "<p>150 rows × 4 columns</p>\n",
       "</div>"
      ],
      "text/plain": [
       "     sepal length (cm)_1  sepal width (cm)_1  petal length (cm)_1  \\\n",
       "0                    5.1                 3.5                  1.4   \n",
       "1                    4.9                 3.0                  1.4   \n",
       "2                    4.7                 3.2                  1.3   \n",
       "3                    4.6                 3.1                  1.5   \n",
       "4                    5.0                 3.6                  1.4   \n",
       "..                   ...                 ...                  ...   \n",
       "145                  6.7                 3.0                  5.2   \n",
       "146                  6.3                 2.5                  5.0   \n",
       "147                  6.5                 3.0                  5.2   \n",
       "148                  6.2                 3.4                  5.4   \n",
       "149                  5.9                 3.0                  5.1   \n",
       "\n",
       "     petal width (cm)_1  \n",
       "0                   0.2  \n",
       "1                   0.2  \n",
       "2                   0.2  \n",
       "3                   0.2  \n",
       "4                   0.2  \n",
       "..                  ...  \n",
       "145                 2.3  \n",
       "146                 1.9  \n",
       "147                 2.0  \n",
       "148                 2.3  \n",
       "149                 1.8  \n",
       "\n",
       "[150 rows x 4 columns]"
      ]
     },
     "execution_count": 3,
     "metadata": {},
     "output_type": "execute_result"
    }
   ],
   "source": [
    "# Load modules and data \n",
    "from sklearn.datasets import load_iris\n",
    "from sklearn.decomposition import PCA\n",
    "from sklearn.discriminant_analysis import LinearDiscriminantAnalysis\n",
    "import pandas as pd\n",
    "import matplotlib.pyplot as plt\n",
    "\n",
    "iris = load_iris()\n",
    "df = pd.DataFrame(iris.data, columns=[x+'_1' for x in iris.feature_names])\n",
    "df"
   ]
  },
  {
   "cell_type": "code",
   "execution_count": 4,
   "metadata": {
    "id": "1jXQe4Xyvwbt"
   },
   "outputs": [],
   "source": [
    "# Run this cell first to add a checkpoint before we do any mutation on the dataframe.\n",
    "# We can rerun this cell at any point of mutation process.\n",
    "art = lineapy.save(df, 'fancy iris')"
   ]
  },
  {
   "cell_type": "markdown",
   "metadata": {
    "id": "7KLg5ziJ3yw2"
   },
   "source": [
    "### Mutate the data\n",
    "\n",
    "The following 3 cells all modify the dataframe `df` a little bit (for demo purpose). **Feel free to run them in any order, change parameters and re-execute them, or delete the cell** if you want to. To see how LineaPy can capture different versions, You can also save the same artifact multiple times by re-executing previous cells arbitrarily. We can compare these different versions of the same artifact at the end of the demo."
   ]
  },
  {
   "cell_type": "code",
   "execution_count": 5,
   "metadata": {},
   "outputs": [],
   "source": [
    "c1,c2,c3=0,0,0 # Count how many mutate we've down during the process"
   ]
  },
  {
   "cell_type": "code",
   "execution_count": 25,
   "metadata": {
    "colab": {
     "base_uri": "https://localhost:8080/"
    },
    "id": "3czXCWyRsMR_",
    "outputId": "bd1c8702-f261-48c9-b1ff-9f041ecb4e16"
   },
   "outputs": [
    {
     "name": "stdout",
     "output_type": "stream",
     "text": [
      "Index(['sepal length (cm)_1', 'sepal width (cm)_1', 'petal length (cm)_1',\n",
      "       'petal width (cm)_1', 'sepal length (cm)_2', 'sepal width (cm)_2',\n",
      "       'petal length (cm)_2', 'petal width (cm)_2', 'sepal length (cm)_3',\n",
      "       'sepal width (cm)_3', 'petal length (cm)_3', 'petal width (cm)_3',\n",
      "       'sepal length (cm)_4', 'sepal width (cm)_4', 'petal length (cm)_4',\n",
      "       'petal width (cm)_4', 'sepal length (cm)_5', 'sepal width (cm)_5',\n",
      "       'petal length (cm)_5', 'petal width (cm)_5'],\n",
      "      dtype='object')\n",
      "['sepallength(cm)_1', 'sepalwidth(cm)_1', 'petallength(cm)_1', 'petalwidth(cm)_1', 'sepallength(cm)_2', 'sepalwidth(cm)_2', 'petallength(cm)_2', 'petalwidth(cm)_2', 'sepallength(cm)_3', 'sepalwidth(cm)_3', 'petallength(cm)_3', 'petalwidth(cm)_3', 'sepallength(cm)_4', 'sepalwidth(cm)_4', 'petallength(cm)_4', 'petalwidth(cm)_4', 'sepallength(cm)_5', 'sepalwidth(cm)_5', 'petallength(cm)_5', 'petalwidth(cm)_5']\n"
     ]
    }
   ],
   "source": [
    "# Add new columns to the dataframe and print the column of the data frame\n",
    "\n",
    "power = df.shape[1] //4\n",
    "for col in iris.feature_names:\n",
    "  df[col+f'_{power+1}'] = df[col+'_1']**(power+1)\n",
    "\n",
    "clean_columnname = list([x.replace(' ','') for x in df.columns])\n",
    "\n",
    "print(df.columns)\n",
    "print(clean_columnname)\n",
    "\n",
    "c1+=1"
   ]
  },
  {
   "cell_type": "code",
   "execution_count": 26,
   "metadata": {
    "colab": {
     "base_uri": "https://localhost:8080/"
    },
    "id": "ucIInctPugo-",
    "outputId": "c8940eec-3962-433c-e2dd-f67d205aabf7"
   },
   "outputs": [
    {
     "name": "stdout",
     "output_type": "stream",
     "text": [
      "(191, 20)\n",
      "       sepal length (cm)_1  sepal width (cm)_1  petal length (cm)_1  petal width (cm)_1  sepal length (cm)_2  sepal width (cm)_2  petal length (cm)_2  petal width (cm)_2  sepal length (cm)_3  sepal width (cm)_3  petal length (cm)_3  petal width (cm)_3  sepal length (cm)_4  sepal width (cm)_4  petal length (cm)_4  petal width (cm)_4  sepal length (cm)_5  sepal width (cm)_5  petal length (cm)_5  petal width (cm)_5\n",
      "count           191.000000          191.000000           191.000000          191.000000           191.000000          191.000000           191.000000          191.000000           191.000000          191.000000           191.000000          191.000000           191.000000          191.000000           191.000000          191.000000           191.000000          191.000000           191.000000          191.000000\n",
      "mean              7.851838            4.091852             5.075525            1.624954            46.930360           12.752098            23.444517            2.770700           383.367345           54.334902           158.937723            7.003558          3695.435639          273.315568          1304.378921           21.583511         36284.167396         1401.471736         11011.505979           69.018742\n",
      "std               1.116395            0.589572             2.384684            1.038352            13.438662            3.692839            17.108517            2.503790           166.038128           23.933244           143.368537            7.777453          2154.538057          164.082530          1379.611833           28.215062         26726.635582         1082.315349         13421.135869          103.099389\n",
      "min               5.762411            2.680191             1.340096            0.134010            24.778368            5.360383             1.340096            0.013401           142.783149           14.366851             1.795856            0.001796           952.465169           44.575401             2.785963            0.000279          6353.620193          138.302156             4.321942            0.000043\n",
      "25%               6.834488            3.752268             2.010143            0.402029            34.855888           10.506350             3.015215            0.120609           238.222138           39.422638             6.061015            0.048488          1884.759690          171.240862            14.103936            0.022566         14911.792528          743.822188            32.819750            0.010502\n",
      "50%               7.772555            4.020287             5.896421            1.742124            45.080817           12.060861            25.944252            2.264762           350.393119           48.488121           152.978225            3.945496          3152.733451          225.662970          1044.205524            7.956988         28367.361288         1050.231997          7127.584169           16.047070\n",
      "75%               8.576612            4.422316             6.901493            2.412172            54.890317           14.593642            35.546037            4.341910           470.772961           64.537689           245.366952           10.473434          4674.069615          330.393154          1960.874278           29.245921         46406.502891         1691.409134         15671.995849           81.666040\n",
      "max              10.586756            5.896421             9.246660            3.350239            83.635369           25.944252            63.801953            8.375598           885.427207          152.978225           589.954966           28.060255         10851.346856         1044.205524          6314.975114          108.826664        132988.604416         7127.584169         67596.533633          422.064685\n",
      "   sepal length (cm)_1  sepal width (cm)_1  petal length (cm)_1  petal width (cm)_1  sepal length (cm)_2  sepal width (cm)_2  petal length (cm)_2  petal width (cm)_2  sepal length (cm)_3  sepal width (cm)_3  petal length (cm)_3  petal width (cm)_3  sepal length (cm)_4  sepal width (cm)_4  petal length (cm)_4  petal width (cm)_4  sepal length (cm)_5  sepal width (cm)_5  petal length (cm)_5  petal width (cm)_5\n",
      "0             6.834488            4.690335             1.876134            0.268019            34.855888           16.416172             2.626587            0.053604           238.222138           76.997340             4.927830            0.014367          1884.759690          418.068511            10.702554            0.004458         14911.792528         2269.965172            23.244443            0.001383\n",
      "1             6.566469            4.020287             1.876134            0.268019            32.175696           12.060861             2.626587            0.053604           211.280701           48.488121             4.927830            0.014367          1606.051993          225.662970            10.702554            0.004458         12208.417486         1050.231997            23.244443            0.001383\n",
      "2             6.298450            4.288306             1.742124            0.268019            29.602713           13.722579             2.264762            0.053604           186.451191           58.846620             3.945496            0.014367          1359.460872          292.129351             7.956988            0.004458          9912.159043         1450.203215            16.047070            0.001383\n",
      "3             6.164440            4.154296             2.010143            0.268019            28.356424           12.878319             3.015215            0.053604           174.801471           53.500356             6.061015            0.014367          1247.402492          257.289496            14.103936            0.004458          8901.601137         1237.335409            32.819750            0.001383\n",
      "4             6.700478            4.824344             1.876134            0.268019            33.502391           17.367640             2.626587            0.053604           224.482041           83.787473             4.927830            0.014367          1741.226619          467.934734            10.702554            0.004458         13506.069922         2613.313283            23.244443            0.001383\n"
     ]
    }
   ],
   "source": [
    "# Random sample 30 rows and concatenate with the original dataset and look at some statistics of the dataframe\n",
    "\n",
    "df = pd.concat([df, df.sample(5, random_state=1111)])\n",
    "\n",
    "print(df.shape)\n",
    "print(df.describe().to_string())\n",
    "print(df.head().to_string())\n",
    "\n",
    "c2+=1"
   ]
  },
  {
   "cell_type": "code",
   "execution_count": 31,
   "metadata": {
    "colab": {
     "base_uri": "https://localhost:8080/",
     "height": 438
    },
    "id": "3R1hEoIuuhcX",
    "outputId": "46923cb3-a05d-4357-c9c6-75e2a5d6961b"
   },
   "outputs": [
    {
     "data": {
      "image/png": "[encoded data removed]",
      "text/plain": [
       "<Figure size 432x288 with 1 Axes>"
      ]
     },
     "metadata": {
      "needs_background": "light"
     },
     "output_type": "display_data"
    }
   ],
   "source": [
    "# Random sample and concatenate with the original dataset and do some strange scaling and do some plotting\n",
    "\n",
    "df = pd.concat([df, df.sample(10)])\n",
    "df = df*0.96\n",
    "df.plot()\n",
    "c3+=1"
   ]
  },
  {
   "cell_type": "markdown",
   "metadata": {
    "id": "mbQF4rcGuhqn"
   },
   "source": [
    "### Save the artifact\n",
    "\n",
    "Once we are happy with the result or we think we found something interesting that we want to keep as a checkpoint for future investigation, all we need to do is to run `lineapy.save(df, 'fancy iris')` to save the data frame as an artifact."
   ]
  },
  {
   "cell_type": "code",
   "execution_count": 32,
   "metadata": {
    "id": "mx6tRX96ugQH"
   },
   "outputs": [
    {
     "name": "stdout",
     "output_type": "stream",
     "text": [
      "we have ran 4 type1 mutation, 7 type2 mutation and 9 type3 mutation\n"
     ]
    }
   ],
   "source": [
    "art = lineapy.save(df, 'fancy iris')\n",
    "print(f'we have ran {c1} type1 mutation, {c2} type2 mutation and {c3} type3 mutation')"
   ]
  },
  {
   "cell_type": "markdown",
   "metadata": {
    "id": "ojWUgkMKRNJK"
   },
   "source": [
    "### LineaPy feature: code cleanup\n",
    "\n",
    "With `artifact.get_code()`, we can see cleaned-up code for a given artifact. \n",
    "\n",
    "Note that `artifact.get_code()` not only removes extraneous code for generating the artifact but it also captures all mutated, deleted, or re-executed code. **This is why we may see the result from `artifact.get_code()` different from the existing cells.**"
   ]
  },
  {
   "cell_type": "code",
   "execution_count": 33,
   "metadata": {
    "colab": {
     "base_uri": "https://localhost:8080/"
    },
    "id": "_yl5vp92Q6zG",
    "outputId": "a6c47dc6-f137-42f5-b5d9-77f6e5afd2ab"
   },
   "outputs": [
    {
     "name": "stdout",
     "output_type": "stream",
     "text": [
      "import pandas as pd\n",
      "from sklearn.datasets import load_iris\n",
      "\n",
      "iris = load_iris()\n",
      "df = pd.DataFrame(iris.data, columns=[x + \"_1\" for x in iris.feature_names])\n",
      "power = df.shape[1] // 4\n",
      "for col in iris.feature_names:\n",
      "    df[col + f\"_{power+1}\"] = df[col + \"_1\"] ** (power + 1)\n",
      "df = pd.concat([df, df.sample(5, random_state=1111)])\n",
      "df = pd.concat([df, df.sample(1)])\n",
      "df = df * 1.05\n",
      "df = pd.concat([df, df.sample(1)])\n",
      "df = df * 1.05\n",
      "df = pd.concat([df, df.sample(5, random_state=1111)])\n",
      "df = pd.concat([df, df.sample(5, random_state=1111)])\n",
      "df = pd.concat([df, df.sample(1)])\n",
      "df = df * 1.05\n",
      "power = df.shape[1] // 4\n",
      "for col in iris.feature_names:\n",
      "    df[col + f\"_{power+1}\"] = df[col + \"_1\"] ** (power + 1)\n",
      "df = pd.concat([df, df.sample(5, random_state=1111)])\n",
      "df = pd.concat([df, df.sample(1)])\n",
      "df = df * 1.05\n",
      "df = pd.concat([df, df.sample(1)])\n",
      "df = df * 1.05\n",
      "df = pd.concat([df, df.sample(5, random_state=1111)])\n",
      "power = df.shape[1] // 4\n",
      "for col in iris.feature_names:\n",
      "    df[col + f\"_{power+1}\"] = df[col + \"_1\"] ** (power + 1)\n",
      "df = pd.concat([df, df.sample(1)])\n",
      "df = df * 1.05\n",
      "df = pd.concat([df, df.sample(5, random_state=1111)])\n",
      "power = df.shape[1] // 4\n",
      "for col in iris.feature_names:\n",
      "    df[col + f\"_{power+1}\"] = df[col + \"_1\"] ** (power + 1)\n",
      "df = pd.concat([df, df.sample(5, random_state=1111)])\n",
      "df = pd.concat([df, df.sample(1)])\n",
      "df = df * 1.05\n",
      "df = pd.concat([df, df.sample(10)])\n",
      "df = df * 1.05\n",
      "df = pd.concat([df, df.sample(10)])\n",
      "df = df * 0.96\n",
      "\n"
     ]
    }
   ],
   "source": [
    "print(art.get_code()) "
   ]
  },
  {
   "cell_type": "code",
   "execution_count": 35,
   "metadata": {
    "colab": {
     "base_uri": "https://localhost:8080/",
     "height": 522
    },
    "id": "dgRHhHlDG8Qd",
    "outputId": "32b95ac0-eb54-434b-993a-2f5fab752c2d"
   },
   "outputs": [],
   "source": [
    "# Look at value of a given artifact\n",
    "# art.get_value()"
   ]
  },
  {
   "cell_type": "markdown",
   "metadata": {},
   "source": [
    "If we need to validate correctness of the cleaned-up code, we can use `artifact.get_session_code()` to check the original full session code."
   ]
  },
  {
   "cell_type": "code",
   "execution_count": null,
   "metadata": {
    "colab": {
     "base_uri": "https://localhost:8080/"
    },
    "id": "Ecz28MPEgx0W",
    "outputId": "2692ec7f-cedc-48f4-ebd5-09fd04f90359"
   },
   "outputs": [
    {
     "name": "stdout",
     "output_type": "stream",
     "text": [
      "import lineapy\n",
      "get_ipython().run_cell_magic('capture', '', \"%matplotlib inline\\n\\nfrom sklearn.datasets import load_iris\\nfrom sklearn.decomposition import PCA\\nfrom sklearn.discriminant_analysis import LinearDiscriminantAnalysis\\nimport pandas as pd\\nimport matplotlib.pyplot as plt\\n\\niris = load_iris()\\ndf = pd.DataFrame(iris.data, columns=[x+'_1' for x in iris.feature_names])\\n\")\n",
      "get_ipython().run_line_magic('matplotlib', 'inline')\n",
      "\n",
      "from sklearn.datasets import load_iris\n",
      "from sklearn.decomposition import PCA\n",
      "from sklearn.discriminant_analysis import LinearDiscriminantAnalysis\n",
      "import pandas as pd\n",
      "import matplotlib.pyplot as plt\n",
      "\n",
      "iris = load_iris()\n",
      "df = pd.DataFrame(iris.data, columns=[x+'_1' for x in iris.feature_names])\n",
      "# Load modules and data \n",
      "from sklearn.datasets import load_iris\n",
      "from sklearn.decomposition import PCA\n",
      "from sklearn.discriminant_analysis import LinearDiscriminantAnalysis\n",
      "import pandas as pd\n",
      "import matplotlib.pyplot as plt\n",
      "\n",
      "iris = load_iris()\n",
      "df = pd.DataFrame(iris.data, columns=[x+'_1' for x in iris.feature_names])\n",
      "# Load modules and data \n",
      "from sklearn.datasets import load_iris\n",
      "from sklearn.decomposition import PCA\n",
      "from sklearn.discriminant_analysis import LinearDiscriminantAnalysis\n",
      "import pandas as pd\n",
      "import matplotlib.pyplot as plt\n",
      "\n",
      "iris = load_iris()\n",
      "df = pd.DataFrame(iris.data, columns=[x+'_1' for x in iris.feature_names])\n",
      "df\n",
      "# Run this cell whenever you need to save the artifact \n",
      "\n",
      "art = lineapy.save(df, 'fancy iris')\n",
      "# Add new columns to the dataframe and print the column of the data frame\n",
      "\n",
      "power = df.shape[1] //4\n",
      "for col in iris.feature_names:\n",
      "  df[col+f'_{power+1}'] = df[col+'_1']**(power+1)\n",
      "\n",
      "clean_columnname = list([x.replace(' ','') for x in df.columns])\n",
      "\n",
      "print(df.columns)\n",
      "print(clean_columnname)\n",
      "# Add new columns to the dataframe and print the column of the data frame\n",
      "\n",
      "power = df.shape[1] //4\n",
      "for col in iris.feature_names:\n",
      "  df[col+f'_{power+1}'] = df[col+'_1']**(power+1)\n",
      "\n",
      "clean_columnname = list([x.replace(' ','') for x in df.columns])\n",
      "\n",
      "print(df.columns)\n",
      "print(clean_columnname)\n",
      "# Add new columns to the dataframe and print the column of the data frame\n",
      "\n",
      "power = df.shape[1] //4\n",
      "for col in iris.feature_names:\n",
      "  df[col+f'_{power+1}'] = df[col+'_1']**(power+1)\n",
      "\n",
      "clean_columnname = list([x.replace(' ','') for x in df.columns])\n",
      "\n",
      "print(df.columns)\n",
      "print(clean_columnname)\n",
      "# Random sample 30 rows and concatenate with the original dataset and look at some statistics of the dataframe\n",
      "\n",
      "df = pd.concat([df, df.sample(50, random_state=1234)])\n",
      "\n",
      "print(df.shape)\n",
      "print(df.describe().to_string())\n",
      "print(df.head().to_string())\n",
      "# Random sample 30 rows and concatenate with the original dataset and look at some statistics of the dataframe\n",
      "\n",
      "df = pd.concat([df, df.sample(30, random_state=1234)])\n",
      "\n",
      "print(df.shape)\n",
      "print(df.describe().to_string())\n",
      "print(df.head().to_string())\n",
      "# Random sample 30 rows and concatenate with the original dataset and look at some statistics of the dataframe\n",
      "\n",
      "df = pd.concat([df, df.sample(25, random_state=1234)])\n",
      "\n",
      "print(df.shape)\n",
      "print(df.describe().to_string())\n",
      "print(df.head().to_string())\n",
      "# Random sample 30 rows and concatenate with the original dataset and look at some statistics of the dataframe\n",
      "\n",
      "df = pd.concat([df, df.sample(55, random_state=1234)])\n",
      "\n",
      "print(df.shape)\n",
      "print(df.describe().to_string())\n",
      "print(df.head().to_string())\n",
      "# Random sample 30 rows and concatenate with the original dataset and look at some statistics of the dataframe\n",
      "\n",
      "df = pd.concat([df, df.sample(55, random_state=1111)])\n",
      "\n",
      "print(df.shape)\n",
      "print(df.describe().to_string())\n",
      "print(df.head().to_string())\n",
      "# Random sample and concatenate with the original dataset and do some strange scaling and do some plotting\n",
      "\n",
      "df = pd.concat([df, df.sample(70)])\n",
      "df = df*1.05\n",
      "df.plot()\n",
      "# Random sample and concatenate with the original dataset and do some strange scaling and do some plotting\n",
      "\n",
      "df = pd.concat([df, df.sample(1)])\n",
      "df = df*1.05\n",
      "df.plot()\n",
      "# Add new columns to the dataframe and print the column of the data frame\n",
      "\n",
      "power = df.shape[1] //4\n",
      "for col in iris.feature_names:\n",
      "  df[col+f'_{power+1}'] = df[col+'_1']**(power+1)\n",
      "\n",
      "clean_columnname = list([x.replace(' ','') for x in df.columns])\n",
      "\n",
      "print(df.columns)\n",
      "print(clean_columnname)\n",
      "# Add new columns to the dataframe and print the column of the data frame\n",
      "\n",
      "power = df.shape[1] //4\n",
      "for col in iris.feature_names:\n",
      "  df[col+f'_{power+1}'] = df[col+'_1']**(power+1)\n",
      "\n",
      "clean_columnname = list([x.replace(' ','') for x in df.columns])\n",
      "\n",
      "print(df.columns)\n",
      "print(clean_columnname)\n",
      "# Random sample 30 rows and concatenate with the original dataset and look at some statistics of the dataframe\n",
      "\n",
      "df = pd.concat([df, df.sample(5, random_state=1111)])\n",
      "\n",
      "print(df.shape)\n",
      "print(df.describe().to_string())\n",
      "print(df.head().to_string())\n",
      "art = lineapy.save(df, 'fancy iris')\n",
      "# Random sample 30 rows and concatenate with the original dataset and look at some statistics of the dataframe\n",
      "\n",
      "df = pd.concat([df, df.sample(5, random_state=1111)])\n",
      "\n",
      "print(df.shape)\n",
      "print(df.describe().to_string())\n",
      "print(df.head().to_string())\n",
      "# Random sample and concatenate with the original dataset and do some strange scaling and do some plotting\n",
      "\n",
      "df = pd.concat([df, df.sample(1)])\n",
      "df = df*1.05\n",
      "df.plot()\n",
      "# Add new columns to the dataframe and print the column of the data frame\n",
      "\n",
      "power = df.shape[1] //4\n",
      "for col in iris.feature_names:\n",
      "  df[col+f'_{power+1}'] = df[col+'_1']**(power+1)\n",
      "\n",
      "clean_columnname = list([x.replace(' ','') for x in df.columns])\n",
      "\n",
      "print(df.columns)\n",
      "print(clean_columnname)\n",
      "# Add new columns to the dataframe and print the column of the data frame\n",
      "\n",
      "power = df.shape[1] //4\n",
      "for col in iris.feature_names:\n",
      "  df[col+f'_{power+1}'] = df[col+'_1']**(power+1)\n",
      "\n",
      "clean_columnname = list([x.replace(' ','') for x in df.columns])\n",
      "\n",
      "print(df.columns)\n",
      "print(clean_columnname)\n",
      "# Random sample 30 rows and concatenate with the original dataset and look at some statistics of the dataframe\n",
      "\n",
      "df = pd.concat([df, df.sample(5, random_state=1111)])\n",
      "\n",
      "print(df.shape)\n",
      "print(df.describe().to_string())\n",
      "print(df.head().to_string())\n",
      "art = lineapy.save(df, 'fancy iris')\n",
      "print(art.get_code()) \n",
      "print(art.get_session_code()) \n",
      "\n"
     ]
    }
   ],
   "source": [
    "print(art.get_session_code()) "
   ]
  },
  {
   "cell_type": "markdown",
   "metadata": {
    "id": "yneTrGWJQoWM"
   },
   "source": [
    "### LineaPy feature: artifact store\n",
    "\n",
    "Another pain point of using Jupyter notebook is that we might have accidentally deleted or mutated a cell that we want to roll back later on.\n",
    "\n",
    "With the option to make a checkpoint at any moment (with `lineapy.save()`) and auto-version the artifact within the artifact store, we can easily recover overwritten artifacts without any manual cleanup or versioning. This can help us effectively compare different versions of the same artifact (i.e., both code and value) and understand what changed over time. It can also help us to easily pick and expand on ideas we have put behind before."
   ]
  },
  {
   "cell_type": "code",
   "execution_count": 36,
   "metadata": {
    "colab": {
     "base_uri": "https://localhost:8080/"
    },
    "id": "uM48GOcbzk4v",
    "outputId": "d105b65e-ff37-4437-b180-3401034086e9"
   },
   "outputs": [
    {
     "name": "stdout",
     "output_type": "stream",
     "text": [
      "artifact within the catalog\n",
      " iris agg:0 created on 2022-05-11 21:14:36.983841\n",
      "fancy iris:0 created on 2022-05-12 13:28:45.654395\n",
      "fancy iris:1 created on 2022-05-12 13:30:19.153434\n",
      "fancy iris:2 created on 2022-05-12 14:34:12.386935\n",
      "fancy iris:3 created on 2022-05-12 14:34:32.628335\n",
      "fancy iris:4 created on 2022-05-12 14:34:42.339116\n",
      "fancy iris:5 created on 2022-05-12 14:35:48.013494\n",
      "fancy iris:6 created on 2022-05-12 14:36:15.938441 \n",
      "\n",
      "fancy iris with following versions\n",
      " [0, 1, 2, 3, 4, 5, 6]\n"
     ]
    }
   ],
   "source": [
    "# Access to the LineaPy artifact store.\n",
    "\n",
    "catalog = lineapy.catalog()\n",
    "print('artifact within the catalog\\n', catalog, '\\n')\n",
    "\n",
    "# Keep only the artifacts we are interested in and show their versions\n",
    "versions = [x._version for x in catalog.artifacts if x.name=='fancy iris']\n",
    "first_version, latest_version = versions[0], versions[-1]\n",
    "print('fancy iris with following versions\\n', versions)"
   ]
  },
  {
   "cell_type": "code",
   "execution_count": 37,
   "metadata": {
    "colab": {
     "base_uri": "https://localhost:8080/"
    },
    "id": "7wIEWut57S9p",
    "outputId": "48bd137e-5014-4522-a9ad-ff634efe9f58"
   },
   "outputs": [
    {
     "name": "stdout",
     "output_type": "stream",
     "text": [
      "import pandas as pd\n",
      "from sklearn.datasets import load_iris\n",
      "\n",
      "iris = load_iris()\n",
      "df = pd.DataFrame(iris.data, columns=[x + \"_1\" for x in iris.feature_names])\n",
      "power = df.shape[1] // 4\n",
      "for col in iris.feature_names:\n",
      "    df[col + f\"_{power+1}\"] = df[col + \"_1\"] ** (power + 1)\n",
      "df = pd.concat([df, df.sample(5, random_state=1111)])\n",
      "df = pd.concat([df, df.sample(1)])\n",
      "df = df * 1.05\n",
      "df = pd.concat([df, df.sample(1)])\n",
      "df = df * 1.05\n",
      "df = pd.concat([df, df.sample(5, random_state=1111)])\n",
      "df = pd.concat([df, df.sample(5, random_state=1111)])\n",
      "df = pd.concat([df, df.sample(1)])\n",
      "df = df * 1.05\n",
      "power = df.shape[1] // 4\n",
      "for col in iris.feature_names:\n",
      "    df[col + f\"_{power+1}\"] = df[col + \"_1\"] ** (power + 1)\n",
      "df = pd.concat([df, df.sample(5, random_state=1111)])\n",
      "df = pd.concat([df, df.sample(1)])\n",
      "df = df * 1.05\n",
      "df = pd.concat([df, df.sample(1)])\n",
      "df = df * 1.05\n",
      "df = pd.concat([df, df.sample(5, random_state=1111)])\n",
      "power = df.shape[1] // 4\n",
      "for col in iris.feature_names:\n",
      "    df[col + f\"_{power+1}\"] = df[col + \"_1\"] ** (power + 1)\n",
      "df = pd.concat([df, df.sample(1)])\n",
      "df = df * 1.05\n",
      "df = pd.concat([df, df.sample(5, random_state=1111)])\n",
      "power = df.shape[1] // 4\n",
      "for col in iris.feature_names:\n",
      "    df[col + f\"_{power+1}\"] = df[col + \"_1\"] ** (power + 1)\n",
      "df = pd.concat([df, df.sample(5, random_state=1111)])\n",
      "df = pd.concat([df, df.sample(1)])\n",
      "df = df * 1.05\n",
      "df = pd.concat([df, df.sample(10)])\n",
      "df = df * 1.05\n",
      "df = pd.concat([df, df.sample(10)])\n",
      "df = df * 0.96\n",
      "\n"
     ]
    }
   ],
   "source": [
    "# Code for first version of artifact\n",
    "print(lineapy.get('fancy iris', version=first_version).get_code())"
   ]
  },
  {
   "cell_type": "code",
   "execution_count": 38,
   "metadata": {
    "colab": {
     "base_uri": "https://localhost:8080/"
    },
    "id": "XVRy1C8WxdeY",
    "outputId": "7f35c306-1ce8-4a34-f669-0fffe34cb98b"
   },
   "outputs": [
    {
     "name": "stdout",
     "output_type": "stream",
     "text": [
      "import pandas as pd\n",
      "from sklearn.datasets import load_iris\n",
      "\n",
      "iris = load_iris()\n",
      "df = pd.DataFrame(iris.data, columns=[x + \"_1\" for x in iris.feature_names])\n",
      "power = df.shape[1] // 4\n",
      "for col in iris.feature_names:\n",
      "    df[col + f\"_{power+1}\"] = df[col + \"_1\"] ** (power + 1)\n",
      "df = pd.concat([df, df.sample(5, random_state=1111)])\n",
      "df = pd.concat([df, df.sample(1)])\n",
      "df = df * 1.05\n",
      "df = pd.concat([df, df.sample(1)])\n",
      "df = df * 1.05\n",
      "df = pd.concat([df, df.sample(5, random_state=1111)])\n",
      "df = pd.concat([df, df.sample(5, random_state=1111)])\n",
      "df = pd.concat([df, df.sample(1)])\n",
      "df = df * 1.05\n",
      "power = df.shape[1] // 4\n",
      "for col in iris.feature_names:\n",
      "    df[col + f\"_{power+1}\"] = df[col + \"_1\"] ** (power + 1)\n",
      "df = pd.concat([df, df.sample(5, random_state=1111)])\n",
      "df = pd.concat([df, df.sample(1)])\n",
      "df = df * 1.05\n",
      "df = pd.concat([df, df.sample(1)])\n",
      "df = df * 1.05\n",
      "df = pd.concat([df, df.sample(5, random_state=1111)])\n",
      "power = df.shape[1] // 4\n",
      "for col in iris.feature_names:\n",
      "    df[col + f\"_{power+1}\"] = df[col + \"_1\"] ** (power + 1)\n",
      "df = pd.concat([df, df.sample(1)])\n",
      "df = df * 1.05\n",
      "df = pd.concat([df, df.sample(5, random_state=1111)])\n",
      "power = df.shape[1] // 4\n",
      "for col in iris.feature_names:\n",
      "    df[col + f\"_{power+1}\"] = df[col + \"_1\"] ** (power + 1)\n",
      "df = pd.concat([df, df.sample(5, random_state=1111)])\n",
      "df = pd.concat([df, df.sample(1)])\n",
      "df = df * 1.05\n",
      "df = pd.concat([df, df.sample(10)])\n",
      "df = df * 1.05\n",
      "df = pd.concat([df, df.sample(10)])\n",
      "df = df * 0.96\n",
      "\n"
     ]
    }
   ],
   "source": [
    "# Code for last version of artifact\n",
    "latest_version = versions[-1]\n",
    "print(lineapy.get('fancy iris', version=latest_version).get_code())"
   ]
  },
  {
   "cell_type": "markdown",
   "metadata": {},
   "source": [
    "All the complexity of notebook cleaning has been removed here. Even when you want to further refactor or modularize the code, you will no longer need to start from scratch."
   ]
  },
  {
   "cell_type": "markdown",
   "metadata": {},
   "source": [
    "## Recap"
   ]
  },
  {
   "cell_type": "markdown",
   "metadata": {},
   "source": [
    "This demo has shown that LineaPy can help data scientists and ML engineers save time on manual notebook cleanup, which is often a major bottleneck in data science workflows. Hence, they can focus on more valuable activities such as generating insights from the data.\n",
    "\n",
    "To learn more about LineaPy, check out the project [documentation](https://docs.lineapy.org/en/latest/index.html)."
   ]
  }
 ],
 "metadata": {
  "colab": {
   "collapsed_sections": [],
   "name": "Scenario - clean up a messy notebook ",
   "provenance": []
  },
  "interpreter": {
   "hash": "638ec7eab5fbe7436d6770268b28f2fbb88284b9e6e3b639c95f012d57f60a45"
  },
  "kernelspec": {
   "display_name": "Python 3 (ipykernel)",
   "language": "python",
   "name": "python3"
  },
  "language_info": {
   "codemirror_mode": {
    "name": "ipython",
    "version": 3
   },
   "file_extension": ".py",
   "mimetype": "text/x-python",
   "name": "python",
   "nbconvert_exporter": "python",
   "pygments_lexer": "ipython3",
   "version": "3.8.9"
  }
 },
 "nbformat": 4,
 "nbformat_minor": 1
}
