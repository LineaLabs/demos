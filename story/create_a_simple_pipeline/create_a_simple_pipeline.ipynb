{
 "cells": [
  {
   "cell_type": "markdown",
   "metadata": {},
   "source": [
    "<p align=\"center\">\n",
    "    <a href=\"https://colab.research.google.com/drive/1OZWpHJJDUAHV-I_2HsDVubTY7QKqeO_L?usp=sharing\"><img src=\"https://colab.research.google.com/assets/colab-badge.svg\" alt=\"Open in Colab\"/></a>\n",
    "</p>"
   ]
  },
  {
   "cell_type": "code",
   "execution_count": 2,
   "metadata": {
    "id": "pK9HKAGvpiuo"
   },
   "outputs": [],
   "source": [
    "import lineapy"
   ]
  },
  {
   "cell_type": "markdown",
   "metadata": {},
   "source": [
    "# Use LineaPy to Create a Simple ML/Data Pipeline"
   ]
  },
  {
   "cell_type": "markdown",
   "metadata": {},
   "source": [
    "## Scenario\n",
    "\n",
    "As your notebooks become more mature, they may get used like pipelines. For instance, your notebook might do the following things:\n",
    "\n",
    "* Processing latest data and updating dashboards\n",
    "* Preprocessing data and dumping it to the filesystem for downstream model development\n",
    "\n",
    "And you may even be expected to re-execute the pipeline on a regular or ad-hoc basis.\n",
    "\n",
    "However, you may not have the proper engineering support to set up these pipelines for production (e.g., data preparation for your ongoing experiments)."
   ]
  },
  {
   "cell_type": "markdown",
   "metadata": {},
   "source": [
    "## What might happen next?\n",
    "\n",
    "If this is the case, any of the following may happen:\n",
    "\n",
    "* You spend a lot of time copying and pasting and cleaning your code to make your pipeline work in orchestration systems or job schedulers (cron, Apache Airflow, Prefect, etc.).\n",
    "* It takes forever to make your pipeline work and you end up running your pipelines manually whenever you need to (or get asked to).\n",
    "* Your runtime environment is changed due to other experiments you are running and your pipeline is no longer working.\n",
    "* You make some changes to your pipeline and now you find out you need to restart the above processes again.\n",
    "\n",
    "As more notebooks and pipelines need to be maintained, a data scientist will need to spend more time on the operation side to make sure every notebook is running at the right time successfully. \n",
    "And this operational burden will consume a lot of time from the data scientist, which decreases their productivity and innovation."
   ]
  },
  {
   "cell_type": "markdown",
   "metadata": {},
   "source": [
    "## How can LineaPy help here?\n",
    "\n",
    "LineaPy can help to set up and maintain pipelines with minimal efforts.\n",
    "\n",
    "```\n",
    "import lineapy\n",
    "\n",
    "........................\n",
    ".\n",
    ". your original notebook\n",
    ". \n",
    "........................\n",
    "\n",
    "lineapy.save(object, 'artifact name')\n",
    "lineapy.to_pipeline(['artifact name'], framework, pipeline_name, output_dir)\n",
    "\n",
    "```\n",
    " \n",
    "With just these three lines of code, LineaPy enables data scientists to produce runnable pipelines.\n",
    "For some orchestration systems, like Apache Airflow, LineaPy is even able to upload the runnable pipeline without any manual interaction."
   ]
  },
  {
   "cell_type": "markdown",
   "metadata": {},
   "source": [
    "## What will we learn in the rest of the notebook?\n",
    "\n",
    "In this demo, we are going to load the iris data features as a four-column data frame, and perform some aggregation to mimic the dashboard updating process or data processing.\n",
    "During this process, we will use a minimal example to create a LineaPy artifact (read more about them [here](https://docs.lineapy.org/en/latest/fundamentals/concepts.html#artifact)) and then create a pipeline that produces the artifact.\n",
    "\n",
    "In the end, we will:\n",
    "\n",
    "* Demonstrate how to use the `to_pipeline()` method to:\n",
    "  * Create a native pipeline as a Python script and how to set it up in crontab.\n",
    "  * Create a native Airflow DAG that can populate in the Airflow DAG folder, which can be picked up by the Airflow scheduler seamlessly.\n",
    "* Investigate the `requirement.txt` output file to validate that LineaPy has saved the module dependency for the pipeline.\n",
    "\n",
    "In sum, the demo will show that LineaPy can help data scientists save time on pipeline building/management and focus more on what they are best at, i.e., generating insights with features created by the pipelines."
   ]
  },
  {
   "cell_type": "markdown",
   "metadata": {},
   "source": [
    "## Demo"
   ]
  },
  {
   "cell_type": "markdown",
   "metadata": {},
   "source": [
    "### Set up a minimal example\n",
    "\n",
    "Let's first set up a minimal example that mimics a data processing pipeline:\n",
    "\n",
    "* Load the data\n",
    "* Do some aggregation\n",
    "* Save the artifact"
   ]
  },
  {
   "cell_type": "code",
   "execution_count": 11,
   "metadata": {
    "colab": {
     "base_uri": "https://localhost:8080/",
     "height": 206
    },
    "id": "JM12axJC2_6I",
    "outputId": "5cdb6688-ab2e-4cd6-ca56-e8e591b11805"
   },
   "outputs": [
    {
     "data": {
      "text/html": [
       "<div>\n",
       "<style scoped>\n",
       "    .dataframe tbody tr th:only-of-type {\n",
       "        vertical-align: middle;\n",
       "    }\n",
       "\n",
       "    .dataframe tbody tr th {\n",
       "        vertical-align: top;\n",
       "    }\n",
       "\n",
       "    .dataframe thead th {\n",
       "        text-align: right;\n",
       "    }\n",
       "</style>\n",
       "<table border=\"1\" class=\"dataframe\">\n",
       "  <thead>\n",
       "    <tr style=\"text-align: right;\">\n",
       "      <th></th>\n",
       "      <th>sepal length (cm)</th>\n",
       "      <th>sepal width (cm)</th>\n",
       "      <th>petal length (cm)</th>\n",
       "      <th>petal width (cm)</th>\n",
       "      <th>target</th>\n",
       "    </tr>\n",
       "  </thead>\n",
       "  <tbody>\n",
       "    <tr>\n",
       "      <th>0</th>\n",
       "      <td>5.1</td>\n",
       "      <td>3.5</td>\n",
       "      <td>1.4</td>\n",
       "      <td>0.2</td>\n",
       "      <td>setosa</td>\n",
       "    </tr>\n",
       "    <tr>\n",
       "      <th>1</th>\n",
       "      <td>4.9</td>\n",
       "      <td>3.0</td>\n",
       "      <td>1.4</td>\n",
       "      <td>0.2</td>\n",
       "      <td>setosa</td>\n",
       "    </tr>\n",
       "    <tr>\n",
       "      <th>2</th>\n",
       "      <td>4.7</td>\n",
       "      <td>3.2</td>\n",
       "      <td>1.3</td>\n",
       "      <td>0.2</td>\n",
       "      <td>setosa</td>\n",
       "    </tr>\n",
       "    <tr>\n",
       "      <th>3</th>\n",
       "      <td>4.6</td>\n",
       "      <td>3.1</td>\n",
       "      <td>1.5</td>\n",
       "      <td>0.2</td>\n",
       "      <td>setosa</td>\n",
       "    </tr>\n",
       "    <tr>\n",
       "      <th>4</th>\n",
       "      <td>5.0</td>\n",
       "      <td>3.6</td>\n",
       "      <td>1.4</td>\n",
       "      <td>0.2</td>\n",
       "      <td>setosa</td>\n",
       "    </tr>\n",
       "  </tbody>\n",
       "</table>\n",
       "</div>"
      ],
      "text/plain": [
       "   sepal length (cm)  sepal width (cm)  petal length (cm)  petal width (cm)  \\\n",
       "0                5.1               3.5                1.4               0.2   \n",
       "1                4.9               3.0                1.4               0.2   \n",
       "2                4.7               3.2                1.3               0.2   \n",
       "3                4.6               3.1                1.5               0.2   \n",
       "4                5.0               3.6                1.4               0.2   \n",
       "\n",
       "   target  \n",
       "0  setosa  \n",
       "1  setosa  \n",
       "2  setosa  \n",
       "3  setosa  \n",
       "4  setosa  "
      ]
     },
     "execution_count": 11,
     "metadata": {},
     "output_type": "execute_result"
    }
   ],
   "source": [
    "from sklearn.datasets import load_iris\n",
    "from sklearn.decomposition import PCA\n",
    "from sklearn.discriminant_analysis import LinearDiscriminantAnalysis\n",
    "import pandas as pd\n",
    "\n",
    "iris = load_iris()\n",
    "df = pd.DataFrame(iris.data, columns=iris.feature_names).assign(target=[iris.target_names[i] for i in iris.target])\n",
    "df.head()"
   ]
  },
  {
   "cell_type": "code",
   "execution_count": 12,
   "metadata": {
    "colab": {
     "base_uri": "https://localhost:8080/",
     "height": 235
    },
    "id": "KVPzoUtoxuS1",
    "outputId": "66d43ebd-a79e-4727-e5c5-e1b49b127294"
   },
   "outputs": [
    {
     "data": {
      "text/html": [
       "<div>\n",
       "<style scoped>\n",
       "    .dataframe tbody tr th:only-of-type {\n",
       "        vertical-align: middle;\n",
       "    }\n",
       "\n",
       "    .dataframe tbody tr th {\n",
       "        vertical-align: top;\n",
       "    }\n",
       "\n",
       "    .dataframe thead tr th {\n",
       "        text-align: left;\n",
       "    }\n",
       "\n",
       "    .dataframe thead tr:last-of-type th {\n",
       "        text-align: right;\n",
       "    }\n",
       "</style>\n",
       "<table border=\"1\" class=\"dataframe\">\n",
       "  <thead>\n",
       "    <tr>\n",
       "      <th></th>\n",
       "      <th colspan=\"8\" halign=\"left\">sepal length (cm)</th>\n",
       "      <th colspan=\"2\" halign=\"left\">sepal width (cm)</th>\n",
       "      <th>...</th>\n",
       "      <th colspan=\"2\" halign=\"left\">petal length (cm)</th>\n",
       "      <th colspan=\"8\" halign=\"left\">petal width (cm)</th>\n",
       "    </tr>\n",
       "    <tr>\n",
       "      <th></th>\n",
       "      <th>count</th>\n",
       "      <th>mean</th>\n",
       "      <th>std</th>\n",
       "      <th>min</th>\n",
       "      <th>25%</th>\n",
       "      <th>50%</th>\n",
       "      <th>75%</th>\n",
       "      <th>max</th>\n",
       "      <th>count</th>\n",
       "      <th>mean</th>\n",
       "      <th>...</th>\n",
       "      <th>75%</th>\n",
       "      <th>max</th>\n",
       "      <th>count</th>\n",
       "      <th>mean</th>\n",
       "      <th>std</th>\n",
       "      <th>min</th>\n",
       "      <th>25%</th>\n",
       "      <th>50%</th>\n",
       "      <th>75%</th>\n",
       "      <th>max</th>\n",
       "    </tr>\n",
       "    <tr>\n",
       "      <th>target</th>\n",
       "      <th></th>\n",
       "      <th></th>\n",
       "      <th></th>\n",
       "      <th></th>\n",
       "      <th></th>\n",
       "      <th></th>\n",
       "      <th></th>\n",
       "      <th></th>\n",
       "      <th></th>\n",
       "      <th></th>\n",
       "      <th></th>\n",
       "      <th></th>\n",
       "      <th></th>\n",
       "      <th></th>\n",
       "      <th></th>\n",
       "      <th></th>\n",
       "      <th></th>\n",
       "      <th></th>\n",
       "      <th></th>\n",
       "      <th></th>\n",
       "      <th></th>\n",
       "    </tr>\n",
       "  </thead>\n",
       "  <tbody>\n",
       "    <tr>\n",
       "      <th>setosa</th>\n",
       "      <td>50.0</td>\n",
       "      <td>5.006</td>\n",
       "      <td>0.352490</td>\n",
       "      <td>4.3</td>\n",
       "      <td>4.800</td>\n",
       "      <td>5.0</td>\n",
       "      <td>5.2</td>\n",
       "      <td>5.8</td>\n",
       "      <td>50.0</td>\n",
       "      <td>3.428</td>\n",
       "      <td>...</td>\n",
       "      <td>1.575</td>\n",
       "      <td>1.9</td>\n",
       "      <td>50.0</td>\n",
       "      <td>0.246</td>\n",
       "      <td>0.105386</td>\n",
       "      <td>0.1</td>\n",
       "      <td>0.2</td>\n",
       "      <td>0.2</td>\n",
       "      <td>0.3</td>\n",
       "      <td>0.6</td>\n",
       "    </tr>\n",
       "    <tr>\n",
       "      <th>versicolor</th>\n",
       "      <td>50.0</td>\n",
       "      <td>5.936</td>\n",
       "      <td>0.516171</td>\n",
       "      <td>4.9</td>\n",
       "      <td>5.600</td>\n",
       "      <td>5.9</td>\n",
       "      <td>6.3</td>\n",
       "      <td>7.0</td>\n",
       "      <td>50.0</td>\n",
       "      <td>2.770</td>\n",
       "      <td>...</td>\n",
       "      <td>4.600</td>\n",
       "      <td>5.1</td>\n",
       "      <td>50.0</td>\n",
       "      <td>1.326</td>\n",
       "      <td>0.197753</td>\n",
       "      <td>1.0</td>\n",
       "      <td>1.2</td>\n",
       "      <td>1.3</td>\n",
       "      <td>1.5</td>\n",
       "      <td>1.8</td>\n",
       "    </tr>\n",
       "    <tr>\n",
       "      <th>virginica</th>\n",
       "      <td>50.0</td>\n",
       "      <td>6.588</td>\n",
       "      <td>0.635880</td>\n",
       "      <td>4.9</td>\n",
       "      <td>6.225</td>\n",
       "      <td>6.5</td>\n",
       "      <td>6.9</td>\n",
       "      <td>7.9</td>\n",
       "      <td>50.0</td>\n",
       "      <td>2.974</td>\n",
       "      <td>...</td>\n",
       "      <td>5.875</td>\n",
       "      <td>6.9</td>\n",
       "      <td>50.0</td>\n",
       "      <td>2.026</td>\n",
       "      <td>0.274650</td>\n",
       "      <td>1.4</td>\n",
       "      <td>1.8</td>\n",
       "      <td>2.0</td>\n",
       "      <td>2.3</td>\n",
       "      <td>2.5</td>\n",
       "    </tr>\n",
       "  </tbody>\n",
       "</table>\n",
       "<p>3 rows × 32 columns</p>\n",
       "</div>"
      ],
      "text/plain": [
       "           sepal length (cm)                                              \\\n",
       "                       count   mean       std  min    25%  50%  75%  max   \n",
       "target                                                                     \n",
       "setosa                  50.0  5.006  0.352490  4.3  4.800  5.0  5.2  5.8   \n",
       "versicolor              50.0  5.936  0.516171  4.9  5.600  5.9  6.3  7.0   \n",
       "virginica               50.0  6.588  0.635880  4.9  6.225  6.5  6.9  7.9   \n",
       "\n",
       "           sepal width (cm)         ... petal length (cm)       \\\n",
       "                      count   mean  ...               75%  max   \n",
       "target                              ...                          \n",
       "setosa                 50.0  3.428  ...             1.575  1.9   \n",
       "versicolor             50.0  2.770  ...             4.600  5.1   \n",
       "virginica              50.0  2.974  ...             5.875  6.9   \n",
       "\n",
       "           petal width (cm)                                            \n",
       "                      count   mean       std  min  25%  50%  75%  max  \n",
       "target                                                                 \n",
       "setosa                 50.0  0.246  0.105386  0.1  0.2  0.2  0.3  0.6  \n",
       "versicolor             50.0  1.326  0.197753  1.0  1.2  1.3  1.5  1.8  \n",
       "virginica              50.0  2.026  0.274650  1.4  1.8  2.0  2.3  2.5  \n",
       "\n",
       "[3 rows x 32 columns]"
      ]
     },
     "execution_count": 12,
     "metadata": {},
     "output_type": "execute_result"
    }
   ],
   "source": [
    "iris_agg = df.groupby('target').describe()\n",
    "iris_agg"
   ]
  },
  {
   "cell_type": "code",
   "execution_count": 13,
   "metadata": {
    "id": "1jXQe4Xyvwbt"
   },
   "outputs": [],
   "source": [
    "# Saving the artifact\n",
    "artifact = lineapy.save(iris_agg, 'iris agg')"
   ]
  },
  {
   "cell_type": "markdown",
   "metadata": {
    "id": "7KLg5ziJ3yw2"
   },
   "source": [
    "### Create a pipeline from an artifact"
   ]
  },
  {
   "cell_type": "code",
   "execution_count": 14,
   "metadata": {
    "colab": {
     "base_uri": "https://localhost:8080/",
     "height": 135
    },
    "id": "3czXCWyRsMR_",
    "outputId": "ebd13062-06e4-42eb-9c30-8614ce58e3f8"
   },
   "outputs": [
    {
     "data": {
      "text/html": [
       "<pre style=\"white-space:pre;overflow-x:auto;line-height:normal;font-family:Menlo,'DejaVu Sans Mono',consolas,'Courier New',monospace\">Pipeline source generated in the directory: python_script                                    \n",
       "</pre>\n"
      ],
      "text/plain": [
       "Pipeline source generated in the directory: python_script                                    \n"
      ]
     },
     "metadata": {},
     "output_type": "display_data"
    },
    {
     "data": {
      "text/html": [
       "<pre style=\"white-space:pre;overflow-x:auto;line-height:normal;font-family:Menlo,'DejaVu Sans Mono',consolas,'Courier New',monospace\">Generated python module iris_aggregation_script_pipeline.py                                  \n",
       "</pre>\n"
      ],
      "text/plain": [
       "Generated python module iris_aggregation_script_pipeline.py                                  \n"
      ]
     },
     "metadata": {},
     "output_type": "display_data"
    },
    {
     "data": {
      "text/html": [
       "<pre style=\"white-space:pre;overflow-x:auto;line-height:normal;font-family:Menlo,'DejaVu Sans Mono',consolas,'Courier New',monospace\">Generated Dockerfile iris_aggregation_script_pipeline_Dockerfile                             \n",
       "</pre>\n"
      ],
      "text/plain": [
       "Generated Dockerfile iris_aggregation_script_pipeline_Dockerfile                             \n"
      ]
     },
     "metadata": {},
     "output_type": "display_data"
    },
    {
     "data": {
      "text/html": [
       "<pre style=\"white-space:pre;overflow-x:auto;line-height:normal;font-family:Menlo,'DejaVu Sans Mono',consolas,'Courier New',monospace\">Generated requirements file iris_aggregation_script_pipeline_requirements.txt                \n",
       "</pre>\n"
      ],
      "text/plain": [
       "Generated requirements file iris_aggregation_script_pipeline_requirements.txt                \n"
      ]
     },
     "metadata": {},
     "output_type": "display_data"
    },
    {
     "data": {
      "text/html": [
       "<pre style=\"white-space:pre;overflow-x:auto;line-height:normal;font-family:Menlo,'DejaVu Sans Mono',consolas,'Courier New',monospace\">Added Python Script DAG named iris_aggregation_script_pipeline_script_dag.py. Start a run    \n",
       "from the CLI.                                                                                \n",
       "</pre>\n"
      ],
      "text/plain": [
       "Added Python Script DAG named iris_aggregation_script_pipeline_script_dag.py. Start a run    \n",
       "from the CLI.                                                                                \n"
      ]
     },
     "metadata": {},
     "output_type": "display_data"
    },
    {
     "data": {
      "text/plain": [
       "PosixPath('python_script')"
      ]
     },
     "execution_count": 14,
     "metadata": {},
     "output_type": "execute_result"
    }
   ],
   "source": [
    "lineapy.to_pipeline(artifacts=['iris agg'], framework='SCRIPT', pipeline_name='iris_aggregation_script_pipeline', output_dir='python_script')"
   ]
  },
  {
   "cell_type": "markdown",
   "metadata": {
    "id": "zycyCIokyZyd"
   },
   "source": [
    "### Validate the `to_pipeline()` output"
   ]
  },
  {
   "cell_type": "code",
   "execution_count": 15,
   "metadata": {
    "colab": {
     "base_uri": "https://localhost:8080/"
    },
    "id": "X9k6hKmxykaA",
    "outputId": "5f9fa78f-ce97-4b2b-bfff-9a2e31242552"
   },
   "outputs": [
    {
     "name": "stdout",
     "output_type": "stream",
     "text": [
      "validate lineapy has created all pipeline required files\n",
      "--------------------------------------------------------------------\n",
      "total 0\n",
      "-rwxrwxrwx 1 mlee mlee 281 May 12 11:56 iris_aggregation_script_pipeline.py\n",
      "-rwxrwxrwx 1 mlee mlee 368 May 12 11:56 iris_aggregation_script_pipeline_Dockerfile\n",
      "-rwxrwxrwx 1 mlee mlee  89 May 12 11:56 iris_aggregation_script_pipeline_requirements.txt\n",
      "-rwxrwxrwx 1 mlee mlee 128 May 12 11:56 iris_aggregation_script_pipeline_script_dag.py\n",
      "\n",
      "\n",
      "--------------------------------------------------------------------\n",
      "python module: iris_aggregation_script_pipeline.py\n",
      "--------------------------------------------------------------------\n",
      "import pandas as pd\n",
      "from sklearn.datasets import load_iris\n",
      "\n",
      "\n",
      "def iris_agg():\n",
      "    iris = load_iris()\n",
      "    df = pd.DataFrame(iris.data, columns=iris.feature_names).assign(\n",
      "        target=[iris.target_names[i] for i in iris.target]\n",
      "    )\n",
      "    iris_agg = df.groupby(\"target\").describe()\n",
      "\n",
      "\n",
      "--------------------------------------------------------------------\n",
      "pipeline script: iris_aggregation_script_pipeline_script_dag.py\n",
      "--------------------------------------------------------------------\n",
      "import os\n",
      "\n",
      "import iris_aggregation_script_pipeline\n",
      "\n",
      "if __name__ == \"__main__\":\n",
      "\n",
      "    iris_aggregation_script_pipeline.iris_agg()\n",
      "--------------------------------------------------------------------\n",
      "module requirement: iris_aggregation_script_pipeline_requirements.txt\n",
      "--------------------------------------------------------------------\n",
      "pandas==1.3.5\n",
      "lineapy==0.0.5\n",
      "scikit-learn==1.0.2\n",
      "scikit-learn==1.0.2\n",
      "scikit-learn==1.0.2\n",
      "--------------------------------------------------------------------\n"
     ]
    }
   ],
   "source": [
    "%%sh\n",
    "echo 'validate lineapy has created all pipeline required files'\n",
    "echo '--------------------------------------------------------------------'\n",
    "ls -ltrh python_script\n",
    "echo '\\n'\n",
    "echo '--------------------------------------------------------------------'\n",
    "echo 'python module: iris_aggregation_script_pipeline.py'\n",
    "echo '--------------------------------------------------------------------'\n",
    "cat python_script/iris_aggregation_script_pipeline.py\n",
    "echo '\\n'\n",
    "echo '--------------------------------------------------------------------'\n",
    "echo 'pipeline script: iris_aggregation_script_pipeline_script_dag.py'\n",
    "echo '--------------------------------------------------------------------'\n",
    "cat python_script/iris_aggregation_script_pipeline_script_dag.py\n",
    "echo '--------------------------------------------------------------------'\n",
    "echo 'module requirement: iris_aggregation_script_pipeline_requirements.txt'\n",
    "echo '--------------------------------------------------------------------'\n",
    "cat python_script/iris_aggregation_script_pipeline_requirements.txt\n",
    "echo '--------------------------------------------------------------------'\n"
   ]
  },
  {
   "cell_type": "markdown",
   "metadata": {
    "id": "znkJliRd0w1v"
   },
   "source": [
    "### Execute the pipeline from the command line\n",
    " \n",
    "We can re-execute the pipeline via python CLI directly.\n",
    " \n",
    "```bash\n",
    "python python_script/iris_aggregation_script_pipeline_script_dag.py\n",
    "```\n",
    " \n",
    "If we need to recover the python environment, we can always run\n",
    " \n",
    "```bash\n",
    "pip install -r python_script/iris_aggregation_script_pipeline_requirements.txt\n",
    "```\n",
    " \n",
    "to recover the original environment.\n",
    " \n",
    "#### Setup a cron job\n",
    " \n",
    "We can use crontab to schedule the pipeline by following the command(to run every hour)\n",
    " \n",
    "```bash\n",
    "crontab - \"0 * * * * python python_script/iris_aggregation_script_pipeline_script_dag.py\"\n",
    "```\n",
    " \n",
    "Note that, you need to make sure that you are using the correct python environment and modify the path as the absolute path to the dag file."
   ]
  },
  {
   "cell_type": "markdown",
   "metadata": {},
   "source": [
    "### Create an Airflow pipeline\n",
    "\n",
    "Note that, if you set the `output_dir` to your Airflow dag folder, your Airflow can pick up the dag seamlessly.\n",
    "Of course, if you want to make sure the dag generated by LineaPy is reasonable or you want to add something (e.g., logging), you can make a change on the side and manually move the dag to your dag folder."
   ]
  },
  {
   "cell_type": "code",
   "execution_count": 16,
   "metadata": {
    "colab": {
     "base_uri": "https://localhost:8080/",
     "height": 135
    },
    "id": "hiDOXXBy1WG7",
    "outputId": "e613fc58-8d7e-4121-8a35-b1fddc884720"
   },
   "outputs": [
    {
     "data": {
      "text/html": [
       "<pre style=\"white-space:pre;overflow-x:auto;line-height:normal;font-family:Menlo,'DejaVu Sans Mono',consolas,'Courier New',monospace\">Pipeline source generated in the directory: iris_airflow                                     \n",
       "</pre>\n"
      ],
      "text/plain": [
       "Pipeline source generated in the directory: iris_airflow                                     \n"
      ]
     },
     "metadata": {},
     "output_type": "display_data"
    },
    {
     "data": {
      "text/html": [
       "<pre style=\"white-space:pre;overflow-x:auto;line-height:normal;font-family:Menlo,'DejaVu Sans Mono',consolas,'Courier New',monospace\">Generated python module iris_aggregation_airflow_pipeline.py                                 \n",
       "</pre>\n"
      ],
      "text/plain": [
       "Generated python module iris_aggregation_airflow_pipeline.py                                 \n"
      ]
     },
     "metadata": {},
     "output_type": "display_data"
    },
    {
     "data": {
      "text/html": [
       "<pre style=\"white-space:pre;overflow-x:auto;line-height:normal;font-family:Menlo,'DejaVu Sans Mono',consolas,'Courier New',monospace\">Generated Dockerfile iris_aggregation_airflow_pipeline_Dockerfile                            \n",
       "</pre>\n"
      ],
      "text/plain": [
       "Generated Dockerfile iris_aggregation_airflow_pipeline_Dockerfile                            \n"
      ]
     },
     "metadata": {},
     "output_type": "display_data"
    },
    {
     "data": {
      "text/html": [
       "<pre style=\"white-space:pre;overflow-x:auto;line-height:normal;font-family:Menlo,'DejaVu Sans Mono',consolas,'Courier New',monospace\">Generated requirements file iris_aggregation_airflow_pipeline_requirements.txt               \n",
       "</pre>\n"
      ],
      "text/plain": [
       "Generated requirements file iris_aggregation_airflow_pipeline_requirements.txt               \n"
      ]
     },
     "metadata": {},
     "output_type": "display_data"
    },
    {
     "data": {
      "text/html": [
       "<pre style=\"white-space:pre;overflow-x:auto;line-height:normal;font-family:Menlo,'DejaVu Sans Mono',consolas,'Courier New',monospace\">Added Airflow DAG named iris_aggregation_airflow_pipeline_dag. Start a run from the Airflow  \n",
       "UI or CLI.                                                                                   \n",
       "</pre>\n"
      ],
      "text/plain": [
       "Added Airflow DAG named iris_aggregation_airflow_pipeline_dag. Start a run from the Airflow  \n",
       "UI or CLI.                                                                                   \n"
      ]
     },
     "metadata": {},
     "output_type": "display_data"
    },
    {
     "data": {
      "text/plain": [
       "PosixPath('iris_airflow')"
      ]
     },
     "execution_count": 16,
     "metadata": {},
     "output_type": "execute_result"
    }
   ],
   "source": [
    "lineapy.to_pipeline(artifacts=['iris agg'], framework='AIRFLOW', pipeline_name='iris_aggregation_airflow_pipeline', output_dir='iris_airflow')"
   ]
  },
  {
   "cell_type": "code",
   "execution_count": 17,
   "metadata": {
    "colab": {
     "base_uri": "https://localhost:8080/"
    },
    "id": "UL4DISXG1cEh",
    "outputId": "7be45a52-a2a1-423e-c4ae-40920e0e17bc"
   },
   "outputs": [
    {
     "name": "stdout",
     "output_type": "stream",
     "text": [
      "validate lineapy has created all pipeline required files\n",
      "--------------------------------------------------------------------\n",
      "total 4.0K\n",
      "-rwxrwxrwx 1 mlee mlee 281 May 12 11:56 iris_aggregation_airflow_pipeline.py\n",
      "-rwxrwxrwx 1 mlee mlee 370 May 12 11:56 iris_aggregation_airflow_pipeline_Dockerfile\n",
      "-rwxrwxrwx 1 mlee mlee  89 May 12 11:56 iris_aggregation_airflow_pipeline_requirements.txt\n",
      "-rwxrwxrwx 1 mlee mlee 578 May 12 11:56 iris_aggregation_airflow_pipeline_dag.py\n",
      "\n",
      "\n",
      "--------------------------------------------------------------------\n",
      "python module: iris_aggregation_script_pipeline\n",
      "--------------------------------------------------------------------\n",
      "import pandas as pd\n",
      "from sklearn.datasets import load_iris\n",
      "\n",
      "\n",
      "def iris_agg():\n",
      "    iris = load_iris()\n",
      "    df = pd.DataFrame(iris.data, columns=iris.feature_names).assign(\n",
      "        target=[iris.target_names[i] for i in iris.target]\n",
      "    )\n",
      "    iris_agg = df.groupby(\"target\").describe()\n",
      "\n",
      "\n",
      "--------------------------------------------------------------------\n",
      "pipeline script: iris_aggregation_script_pipeline_script_dag\n",
      "--------------------------------------------------------------------\n",
      "import os\n",
      "\n",
      "import iris_aggregation_airflow_pipeline\n",
      "from airflow import DAG\n",
      "from airflow.operators.python_operator import PythonOperator\n",
      "from airflow.utils.dates import days_ago\n",
      "\n",
      "default_dag_args = {\"owner\": \"airflow\", \"retries\": 2, \"start_date\": days_ago(1)}\n",
      "\n",
      "dag = DAG(\n",
      "    dag_id=\"iris_aggregation_airflow_pipeline_dag\",\n",
      "    schedule_interval=\"*/15 * * * *\",\n",
      "    max_active_runs=1,\n",
      "    catchup=False,\n",
      "    default_args=default_dag_args,\n",
      ")\n",
      "\n",
      "\n",
      "iris_agg = PythonOperator(\n",
      "    dag=dag,\n",
      "    task_id=\"iris_agg_task\",\n",
      "    python_callable=iris_aggregation_airflow_pipeline.iris_agg,\n",
      ")\n",
      "--------------------------------------------------------------------\n"
     ]
    }
   ],
   "source": [
    "%%sh\n",
    "echo 'validate lineapy has created all pipeline required files'\n",
    "echo '--------------------------------------------------------------------'\n",
    "ls -ltrh iris_airflow\n",
    "echo '\\n'\n",
    "echo '--------------------------------------------------------------------'\n",
    "echo 'python module: iris_aggregation_script_pipeline'\n",
    "echo '--------------------------------------------------------------------'\n",
    "cat iris_airflow/iris_aggregation_airflow_pipeline.py\n",
    "echo '\\n'\n",
    "echo '--------------------------------------------------------------------'\n",
    "echo 'pipeline script: iris_aggregation_script_pipeline_script_dag'\n",
    "echo '--------------------------------------------------------------------'\n",
    "cat iris_airflow/iris_aggregation_airflow_pipeline_dag.py\n",
    "echo '--------------------------------------------------------------------'\n"
   ]
  },
  {
   "cell_type": "markdown",
   "metadata": {
    "id": "yBWTqxpQf8eZ"
   },
   "source": [
    "## Recap"
   ]
  },
  {
   "cell_type": "markdown",
   "metadata": {
    "id": "UNPKfp28UIFs"
   },
   "source": [
    "We have demonstrated that LineaPy can easily create and update your pipeline and make sure it is reproducible.\n",
    "This should save a lot of time for data scientist from pipeline operation time.\n",
    "\n",
    "To learn more about LineaPy, check out the project [documentation](https://docs.lineapy.org/en/latest/index.html)."
   ]
  }
 ],
 "metadata": {
  "colab": {
   "collapsed_sections": [],
   "name": "Scenario - create pipeline with LineaPy ",
   "provenance": []
  },
  "interpreter": {
   "hash": "638ec7eab5fbe7436d6770268b28f2fbb88284b9e6e3b639c95f012d57f60a45"
  },
  "kernelspec": {
   "display_name": "Python 3 (ipykernel)",
   "language": "python",
   "name": "python3"
  },
  "language_info": {
   "codemirror_mode": {
    "name": "ipython",
    "version": 3
   },
   "file_extension": ".py",
   "mimetype": "text/x-python",
   "name": "python",
   "nbconvert_exporter": "python",
   "pygments_lexer": "ipython3",
   "version": "3.8.9"
  }
 },
 "nbformat": 4,
 "nbformat_minor": 1
}
